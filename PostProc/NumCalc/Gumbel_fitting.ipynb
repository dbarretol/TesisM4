{
 "cells": [
  {
   "cell_type": "markdown",
   "id": "651594f6",
   "metadata": {},
   "source": [
    "# Cálculo de coeficientes gumbel en base a los valores extremos de las respuestas dinámicas $F_X$ y $M_Y$."
   ]
  },
  {
   "cell_type": "markdown",
   "id": "4f042faa",
   "metadata": {},
   "source": [
    "## Importando librerías"
   ]
  },
  {
   "cell_type": "code",
   "execution_count": 1,
   "id": "5416bddb",
   "metadata": {},
   "outputs": [],
   "source": [
    "from scipy.stats import gumbel_r, kstest\n",
    "import pandas as pd\n",
    "import numpy as np\n",
    "import math"
   ]
  },
  {
   "cell_type": "markdown",
   "id": "e42d7476",
   "metadata": {},
   "source": [
    "## 1. Importando datos"
   ]
  },
  {
   "cell_type": "code",
   "execution_count": 2,
   "id": "cb42f810",
   "metadata": {},
   "outputs": [],
   "source": [
    "fx = pd.read_excel(r'..\\data\\Stats_responses_FX_MY.xlsx', sheet_name = 'Fx', usecols = 'A,D')\n",
    "my = pd.read_excel(r'..\\data\\Stats_responses_FX_MY.xlsx', sheet_name = 'My', usecols = 'A,D')"
   ]
  },
  {
   "cell_type": "code",
   "execution_count": 3,
   "id": "f3967e37",
   "metadata": {},
   "outputs": [],
   "source": [
    "#pasando de kN a MN\n",
    "fx['Max'] = fx['Max'] / 1000\n",
    "my['Max'] = my['Max'] / 1000"
   ]
  },
  {
   "cell_type": "markdown",
   "id": "b7d47009",
   "metadata": {},
   "source": [
    "## 2. Creando funciones para estimar los parametros de ajuste de Gumbel y prueba de hipotesis"
   ]
  },
  {
   "cell_type": "code",
   "execution_count": 4,
   "id": "2a395061",
   "metadata": {},
   "outputs": [],
   "source": [
    "def get_gumbcoef(maxLst):\n",
    "    params =gumbel_r.fit(maxLst)\n",
    "    D, pval = kstest(maxLst, 'gumbel_r', args = (params))\n",
    "    \n",
    "    return [params[0], params[1], pval]"
   ]
  },
  {
   "cell_type": "code",
   "execution_count": 5,
   "id": "9cc8c242",
   "metadata": {},
   "outputs": [],
   "source": [
    "uw_labels = fx['Uw'].unique() #Tambien puede ser my['Uw'].unique()"
   ]
  },
  {
   "cell_type": "markdown",
   "id": "0dc4b872",
   "metadata": {},
   "source": [
    "### 2.1. Obteniendo coeficientes de ajuste para $F_X$"
   ]
  },
  {
   "cell_type": "code",
   "execution_count": 6,
   "id": "50c4e751",
   "metadata": {},
   "outputs": [],
   "source": [
    "fit_data_fx =[]\n",
    "\n",
    "for u in uw_labels:\n",
    "    tmp_max = fx.loc[fx['Uw'] == u]\n",
    "    result = get_gumbcoef(tmp_max['Max'])\n",
    "    \n",
    "    fit_data_fx.append([u, result[0], result[1], result[2]])"
   ]
  },
  {
   "cell_type": "code",
   "execution_count": 7,
   "id": "124054d4",
   "metadata": {},
   "outputs": [],
   "source": [
    "fitfx_df = pd.DataFrame(fit_data_fx , columns = ['Uw', 'muG', 'betaG', 'pvalue'])"
   ]
  },
  {
   "cell_type": "code",
   "execution_count": 8,
   "id": "89604df8",
   "metadata": {},
   "outputs": [
    {
     "data": {
      "text/html": [
       "<div>\n",
       "<style scoped>\n",
       "    .dataframe tbody tr th:only-of-type {\n",
       "        vertical-align: middle;\n",
       "    }\n",
       "\n",
       "    .dataframe tbody tr th {\n",
       "        vertical-align: top;\n",
       "    }\n",
       "\n",
       "    .dataframe thead th {\n",
       "        text-align: right;\n",
       "    }\n",
       "</style>\n",
       "<table border=\"1\" class=\"dataframe\">\n",
       "  <thead>\n",
       "    <tr style=\"text-align: right;\">\n",
       "      <th></th>\n",
       "      <th>Uw</th>\n",
       "      <th>muG</th>\n",
       "      <th>betaG</th>\n",
       "      <th>pvalue</th>\n",
       "    </tr>\n",
       "  </thead>\n",
       "  <tbody>\n",
       "    <tr>\n",
       "      <th>0</th>\n",
       "      <td>7.0</td>\n",
       "      <td>0.529</td>\n",
       "      <td>0.038</td>\n",
       "      <td>0.665</td>\n",
       "    </tr>\n",
       "    <tr>\n",
       "      <th>1</th>\n",
       "      <td>10.0</td>\n",
       "      <td>0.865</td>\n",
       "      <td>0.019</td>\n",
       "      <td>0.738</td>\n",
       "    </tr>\n",
       "    <tr>\n",
       "      <th>2</th>\n",
       "      <td>11.4</td>\n",
       "      <td>0.905</td>\n",
       "      <td>0.019</td>\n",
       "      <td>0.375</td>\n",
       "    </tr>\n",
       "    <tr>\n",
       "      <th>3</th>\n",
       "      <td>12.0</td>\n",
       "      <td>0.917</td>\n",
       "      <td>0.021</td>\n",
       "      <td>0.792</td>\n",
       "    </tr>\n",
       "    <tr>\n",
       "      <th>4</th>\n",
       "      <td>15.0</td>\n",
       "      <td>0.906</td>\n",
       "      <td>0.040</td>\n",
       "      <td>0.129</td>\n",
       "    </tr>\n",
       "    <tr>\n",
       "      <th>5</th>\n",
       "      <td>18.0</td>\n",
       "      <td>0.808</td>\n",
       "      <td>0.070</td>\n",
       "      <td>0.367</td>\n",
       "    </tr>\n",
       "    <tr>\n",
       "      <th>6</th>\n",
       "      <td>22.0</td>\n",
       "      <td>0.754</td>\n",
       "      <td>0.039</td>\n",
       "      <td>0.709</td>\n",
       "    </tr>\n",
       "    <tr>\n",
       "      <th>7</th>\n",
       "      <td>25.0</td>\n",
       "      <td>0.784</td>\n",
       "      <td>0.036</td>\n",
       "      <td>0.948</td>\n",
       "    </tr>\n",
       "  </tbody>\n",
       "</table>\n",
       "</div>"
      ],
      "text/plain": [
       "     Uw    muG  betaG  pvalue\n",
       "0   7.0  0.529  0.038   0.665\n",
       "1  10.0  0.865  0.019   0.738\n",
       "2  11.4  0.905  0.019   0.375\n",
       "3  12.0  0.917  0.021   0.792\n",
       "4  15.0  0.906  0.040   0.129\n",
       "5  18.0  0.808  0.070   0.367\n",
       "6  22.0  0.754  0.039   0.709\n",
       "7  25.0  0.784  0.036   0.948"
      ]
     },
     "execution_count": 8,
     "metadata": {},
     "output_type": "execute_result"
    }
   ],
   "source": [
    "fitfx_df.round(3)"
   ]
  },
  {
   "cell_type": "markdown",
   "id": "385eeb58",
   "metadata": {},
   "source": [
    "### 2.2. Obteniendo coeficientes de ajuste para $M_Y$"
   ]
  },
  {
   "cell_type": "code",
   "execution_count": 9,
   "id": "937bd010",
   "metadata": {},
   "outputs": [],
   "source": [
    "fit_data_my =[]\n",
    "\n",
    "for u in uw_labels:\n",
    "    tmp_max = my.loc[my['Uw'] == u]\n",
    "    result = get_gumbcoef(tmp_max['Max'])\n",
    "    \n",
    "    fit_data_my.append([u, result[0], result[1], result[2]])"
   ]
  },
  {
   "cell_type": "code",
   "execution_count": 10,
   "id": "8df19b5b",
   "metadata": {},
   "outputs": [],
   "source": [
    "fitmy_df = pd.DataFrame(fit_data_my , columns = ['Uw', 'muG', 'betaG', 'pvalue'])"
   ]
  },
  {
   "cell_type": "code",
   "execution_count": 11,
   "id": "868b57f0",
   "metadata": {},
   "outputs": [
    {
     "data": {
      "text/html": [
       "<div>\n",
       "<style scoped>\n",
       "    .dataframe tbody tr th:only-of-type {\n",
       "        vertical-align: middle;\n",
       "    }\n",
       "\n",
       "    .dataframe tbody tr th {\n",
       "        vertical-align: top;\n",
       "    }\n",
       "\n",
       "    .dataframe thead th {\n",
       "        text-align: right;\n",
       "    }\n",
       "</style>\n",
       "<table border=\"1\" class=\"dataframe\">\n",
       "  <thead>\n",
       "    <tr style=\"text-align: right;\">\n",
       "      <th></th>\n",
       "      <th>Uw</th>\n",
       "      <th>muG</th>\n",
       "      <th>betaG</th>\n",
       "      <th>pvalue</th>\n",
       "    </tr>\n",
       "  </thead>\n",
       "  <tbody>\n",
       "    <tr>\n",
       "      <th>0</th>\n",
       "      <td>7.0</td>\n",
       "      <td>43.848</td>\n",
       "      <td>3.427</td>\n",
       "      <td>0.914</td>\n",
       "    </tr>\n",
       "    <tr>\n",
       "      <th>1</th>\n",
       "      <td>10.0</td>\n",
       "      <td>72.934</td>\n",
       "      <td>1.619</td>\n",
       "      <td>0.495</td>\n",
       "    </tr>\n",
       "    <tr>\n",
       "      <th>2</th>\n",
       "      <td>11.4</td>\n",
       "      <td>76.281</td>\n",
       "      <td>1.404</td>\n",
       "      <td>0.360</td>\n",
       "    </tr>\n",
       "    <tr>\n",
       "      <th>3</th>\n",
       "      <td>12.0</td>\n",
       "      <td>77.434</td>\n",
       "      <td>1.559</td>\n",
       "      <td>0.520</td>\n",
       "    </tr>\n",
       "    <tr>\n",
       "      <th>4</th>\n",
       "      <td>15.0</td>\n",
       "      <td>76.911</td>\n",
       "      <td>3.150</td>\n",
       "      <td>0.174</td>\n",
       "    </tr>\n",
       "    <tr>\n",
       "      <th>5</th>\n",
       "      <td>18.0</td>\n",
       "      <td>65.970</td>\n",
       "      <td>6.748</td>\n",
       "      <td>0.526</td>\n",
       "    </tr>\n",
       "    <tr>\n",
       "      <th>6</th>\n",
       "      <td>22.0</td>\n",
       "      <td>59.274</td>\n",
       "      <td>3.555</td>\n",
       "      <td>0.609</td>\n",
       "    </tr>\n",
       "    <tr>\n",
       "      <th>7</th>\n",
       "      <td>25.0</td>\n",
       "      <td>59.824</td>\n",
       "      <td>3.738</td>\n",
       "      <td>0.087</td>\n",
       "    </tr>\n",
       "  </tbody>\n",
       "</table>\n",
       "</div>"
      ],
      "text/plain": [
       "     Uw     muG  betaG  pvalue\n",
       "0   7.0  43.848  3.427   0.914\n",
       "1  10.0  72.934  1.619   0.495\n",
       "2  11.4  76.281  1.404   0.360\n",
       "3  12.0  77.434  1.559   0.520\n",
       "4  15.0  76.911  3.150   0.174\n",
       "5  18.0  65.970  6.748   0.526\n",
       "6  22.0  59.274  3.555   0.609\n",
       "7  25.0  59.824  3.738   0.087"
      ]
     },
     "execution_count": 11,
     "metadata": {},
     "output_type": "execute_result"
    }
   ],
   "source": [
    "fitmy_df.round(3)"
   ]
  },
  {
   "cell_type": "code",
   "execution_count": 12,
   "id": "e8575629",
   "metadata": {},
   "outputs": [],
   "source": [
    "fitfx_df.to_excel('(Resultados) Datos de ajuste Gumbel - FX.xlsx', index = False)\n",
    "fitmy_df.to_excel('(Resultados) Datos de ajuste Gumbel - MY.xlsx', index = False)"
   ]
  },
  {
   "cell_type": "markdown",
   "id": "b0011882",
   "metadata": {},
   "source": [
    "## 3. Hallando el periodo de retorno del viento para aplicarlo en la extrapolación"
   ]
  },
  {
   "cell_type": "code",
   "execution_count": 13,
   "id": "74418cfe",
   "metadata": {},
   "outputs": [],
   "source": [
    "def get_returnperiod(Uw, wsc, exp_wei, k_wei):\n",
    "    #exp_wei: parametro de forma; k_wei: parametro de escala\n",
    "    \n",
    "    uten = Uw*(10/90)**wsc                       #Se considera que el hub esta a 90 m    \n",
    "    F = 1-math.exp(-(uten/k_wei)**exp_wei)    \n",
    "    N = 10/((1-F)*365.25*24*60)\n",
    "    \n",
    "    return N"
   ]
  },
  {
   "cell_type": "code",
   "execution_count": 14,
   "id": "f325a9ca",
   "metadata": {},
   "outputs": [],
   "source": [
    "#parametros para el periodo de retorno\n",
    "wsc = 0.10\n",
    "exp_wei = 2\n",
    "k_wei =7"
   ]
  },
  {
   "cell_type": "markdown",
   "id": "f435a5ea",
   "metadata": {},
   "source": [
    "## 4. Aplicando extrapolación a 50 años"
   ]
  },
  {
   "cell_type": "markdown",
   "id": "1a4fd48a",
   "metadata": {},
   "source": [
    "### FX"
   ]
  },
  {
   "cell_type": "code",
   "execution_count": 15,
   "id": "2f75f8f4",
   "metadata": {},
   "outputs": [],
   "source": [
    "fx_sum = fitfx_df[['Uw','muG']].copy()"
   ]
  },
  {
   "cell_type": "code",
   "execution_count": 16,
   "id": "8c7e3abb",
   "metadata": {},
   "outputs": [],
   "source": [
    "# Calculando el periodo de retorno\n",
    "fx_sum['N'] = fx_sum['Uw'].apply(lambda x: get_returnperiod(x, wsc, exp_wei, k_wei))"
   ]
  },
  {
   "cell_type": "code",
   "execution_count": 17,
   "id": "301a2419",
   "metadata": {},
   "outputs": [],
   "source": [
    "# Calculano el valor de respuesta dinamica extrapolado\n",
    "fx_sum['FX (LT)'] = fx_sum['muG'] + fitfx_df['betaG'] * np.log(6 * 50 / fx_sum['N'])"
   ]
  },
  {
   "cell_type": "code",
   "execution_count": 18,
   "id": "b00cd5f9",
   "metadata": {
    "scrolled": true
   },
   "outputs": [
    {
     "data": {
      "text/html": [
       "<div>\n",
       "<style scoped>\n",
       "    .dataframe tbody tr th:only-of-type {\n",
       "        vertical-align: middle;\n",
       "    }\n",
       "\n",
       "    .dataframe tbody tr th {\n",
       "        vertical-align: top;\n",
       "    }\n",
       "\n",
       "    .dataframe thead th {\n",
       "        text-align: right;\n",
       "    }\n",
       "</style>\n",
       "<table border=\"1\" class=\"dataframe\">\n",
       "  <thead>\n",
       "    <tr style=\"text-align: right;\">\n",
       "      <th></th>\n",
       "      <th>Uw</th>\n",
       "      <th>muG</th>\n",
       "      <th>N</th>\n",
       "      <th>FX (LT)</th>\n",
       "    </tr>\n",
       "  </thead>\n",
       "  <tbody>\n",
       "    <tr>\n",
       "      <th>0</th>\n",
       "      <td>7.0</td>\n",
       "      <td>0.528927</td>\n",
       "      <td>0.000036</td>\n",
       "      <td>1.136027</td>\n",
       "    </tr>\n",
       "    <tr>\n",
       "      <th>1</th>\n",
       "      <td>10.0</td>\n",
       "      <td>0.865304</td>\n",
       "      <td>0.000071</td>\n",
       "      <td>1.152238</td>\n",
       "    </tr>\n",
       "    <tr>\n",
       "      <th>2</th>\n",
       "      <td>11.4</td>\n",
       "      <td>0.904766</td>\n",
       "      <td>0.000105</td>\n",
       "      <td>1.188236</td>\n",
       "    </tr>\n",
       "    <tr>\n",
       "      <th>3</th>\n",
       "      <td>12.0</td>\n",
       "      <td>0.917478</td>\n",
       "      <td>0.000126</td>\n",
       "      <td>1.221990</td>\n",
       "    </tr>\n",
       "    <tr>\n",
       "      <th>4</th>\n",
       "      <td>15.0</td>\n",
       "      <td>0.906275</td>\n",
       "      <td>0.000367</td>\n",
       "      <td>1.451310</td>\n",
       "    </tr>\n",
       "    <tr>\n",
       "      <th>5</th>\n",
       "      <td>18.0</td>\n",
       "      <td>0.807844</td>\n",
       "      <td>0.001347</td>\n",
       "      <td>1.673296</td>\n",
       "    </tr>\n",
       "    <tr>\n",
       "      <th>6</th>\n",
       "      <td>22.0</td>\n",
       "      <td>0.753583</td>\n",
       "      <td>0.011050</td>\n",
       "      <td>1.149827</td>\n",
       "    </tr>\n",
       "    <tr>\n",
       "      <th>7</th>\n",
       "      <td>25.0</td>\n",
       "      <td>0.784337</td>\n",
       "      <td>0.070575</td>\n",
       "      <td>1.086596</td>\n",
       "    </tr>\n",
       "  </tbody>\n",
       "</table>\n",
       "</div>"
      ],
      "text/plain": [
       "     Uw       muG         N   FX (LT)\n",
       "0   7.0  0.528927  0.000036  1.136027\n",
       "1  10.0  0.865304  0.000071  1.152238\n",
       "2  11.4  0.904766  0.000105  1.188236\n",
       "3  12.0  0.917478  0.000126  1.221990\n",
       "4  15.0  0.906275  0.000367  1.451310\n",
       "5  18.0  0.807844  0.001347  1.673296\n",
       "6  22.0  0.753583  0.011050  1.149827\n",
       "7  25.0  0.784337  0.070575  1.086596"
      ]
     },
     "execution_count": 18,
     "metadata": {},
     "output_type": "execute_result"
    }
   ],
   "source": [
    "fx_sum"
   ]
  },
  {
   "cell_type": "markdown",
   "id": "9f1a2c75",
   "metadata": {},
   "source": [
    "### MY"
   ]
  },
  {
   "cell_type": "code",
   "execution_count": 19,
   "id": "a22c465a",
   "metadata": {},
   "outputs": [],
   "source": [
    "my_sum = fitmy_df[['Uw','muG']].copy()"
   ]
  },
  {
   "cell_type": "code",
   "execution_count": 20,
   "id": "0caffe2c",
   "metadata": {},
   "outputs": [],
   "source": [
    "# Calculando el periodo de retorno\n",
    "my_sum['N'] = my_sum['Uw'].apply(lambda x: get_returnperiod(x, wsc, exp_wei, k_wei))"
   ]
  },
  {
   "cell_type": "code",
   "execution_count": 21,
   "id": "8c9b2184",
   "metadata": {},
   "outputs": [],
   "source": [
    "# Calculano el valor de respuesta dinamica extrapolado\n",
    "my_sum['FX (LT)'] = my_sum['muG'] + fitmy_df['betaG'] * np.log(6 * 50 / my_sum['N'])"
   ]
  },
  {
   "cell_type": "code",
   "execution_count": 22,
   "id": "284bbef7",
   "metadata": {
    "scrolled": true
   },
   "outputs": [
    {
     "data": {
      "text/html": [
       "<div>\n",
       "<style scoped>\n",
       "    .dataframe tbody tr th:only-of-type {\n",
       "        vertical-align: middle;\n",
       "    }\n",
       "\n",
       "    .dataframe tbody tr th {\n",
       "        vertical-align: top;\n",
       "    }\n",
       "\n",
       "    .dataframe thead th {\n",
       "        text-align: right;\n",
       "    }\n",
       "</style>\n",
       "<table border=\"1\" class=\"dataframe\">\n",
       "  <thead>\n",
       "    <tr style=\"text-align: right;\">\n",
       "      <th></th>\n",
       "      <th>Uw</th>\n",
       "      <th>muG</th>\n",
       "      <th>N</th>\n",
       "      <th>FX (LT)</th>\n",
       "    </tr>\n",
       "  </thead>\n",
       "  <tbody>\n",
       "    <tr>\n",
       "      <th>0</th>\n",
       "      <td>7.0</td>\n",
       "      <td>43.847587</td>\n",
       "      <td>0.000036</td>\n",
       "      <td>98.432150</td>\n",
       "    </tr>\n",
       "    <tr>\n",
       "      <th>1</th>\n",
       "      <td>10.0</td>\n",
       "      <td>72.934499</td>\n",
       "      <td>0.000071</td>\n",
       "      <td>97.632690</td>\n",
       "    </tr>\n",
       "    <tr>\n",
       "      <th>2</th>\n",
       "      <td>11.4</td>\n",
       "      <td>76.281084</td>\n",
       "      <td>0.000105</td>\n",
       "      <td>97.152836</td>\n",
       "    </tr>\n",
       "    <tr>\n",
       "      <th>3</th>\n",
       "      <td>12.0</td>\n",
       "      <td>77.434042</td>\n",
       "      <td>0.000126</td>\n",
       "      <td>100.315520</td>\n",
       "    </tr>\n",
       "    <tr>\n",
       "      <th>4</th>\n",
       "      <td>15.0</td>\n",
       "      <td>76.910515</td>\n",
       "      <td>0.000367</td>\n",
       "      <td>119.794252</td>\n",
       "    </tr>\n",
       "    <tr>\n",
       "      <th>5</th>\n",
       "      <td>18.0</td>\n",
       "      <td>65.969592</td>\n",
       "      <td>0.001347</td>\n",
       "      <td>149.065315</td>\n",
       "    </tr>\n",
       "    <tr>\n",
       "      <th>6</th>\n",
       "      <td>22.0</td>\n",
       "      <td>59.273912</td>\n",
       "      <td>0.011050</td>\n",
       "      <td>95.564408</td>\n",
       "    </tr>\n",
       "    <tr>\n",
       "      <th>7</th>\n",
       "      <td>25.0</td>\n",
       "      <td>59.823530</td>\n",
       "      <td>0.070575</td>\n",
       "      <td>91.052611</td>\n",
       "    </tr>\n",
       "  </tbody>\n",
       "</table>\n",
       "</div>"
      ],
      "text/plain": [
       "     Uw        muG         N     FX (LT)\n",
       "0   7.0  43.847587  0.000036   98.432150\n",
       "1  10.0  72.934499  0.000071   97.632690\n",
       "2  11.4  76.281084  0.000105   97.152836\n",
       "3  12.0  77.434042  0.000126  100.315520\n",
       "4  15.0  76.910515  0.000367  119.794252\n",
       "5  18.0  65.969592  0.001347  149.065315\n",
       "6  22.0  59.273912  0.011050   95.564408\n",
       "7  25.0  59.823530  0.070575   91.052611"
      ]
     },
     "execution_count": 22,
     "metadata": {},
     "output_type": "execute_result"
    }
   ],
   "source": [
    "my_sum"
   ]
  },
  {
   "cell_type": "code",
   "execution_count": null,
   "id": "c5c6af9a",
   "metadata": {},
   "outputs": [],
   "source": []
  },
  {
   "cell_type": "code",
   "execution_count": null,
   "id": "2455e8ad",
   "metadata": {},
   "outputs": [],
   "source": []
  },
  {
   "cell_type": "code",
   "execution_count": null,
   "id": "33eac1c5",
   "metadata": {},
   "outputs": [],
   "source": []
  },
  {
   "cell_type": "code",
   "execution_count": null,
   "id": "122b2287",
   "metadata": {},
   "outputs": [],
   "source": []
  }
 ],
 "metadata": {
  "kernelspec": {
   "display_name": "Python 3 (ipykernel)",
   "language": "python",
   "name": "python3"
  },
  "language_info": {
   "codemirror_mode": {
    "name": "ipython",
    "version": 3
   },
   "file_extension": ".py",
   "mimetype": "text/x-python",
   "name": "python",
   "nbconvert_exporter": "python",
   "pygments_lexer": "ipython3",
   "version": "3.10.9"
  }
 },
 "nbformat": 4,
 "nbformat_minor": 5
}
