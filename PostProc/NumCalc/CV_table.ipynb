{
 "cells": [
  {
   "cell_type": "markdown",
   "id": "100d4e61",
   "metadata": {},
   "source": [
    "# Cálculo de valores ideales de promedios y desviaciones estandard de realizaciones de velocidad de viento"
   ]
  },
  {
   "cell_type": "markdown",
   "id": "350d14ee",
   "metadata": {},
   "source": [
    "Si por una velocidad de viento ${U_W}$ se generan 'n' realizaciones estocasticas (series de tiempo) en Turbsim. Entonces, por cada realización se puede obtener un espacio muestral de medias: $\\mu$ ={$\\mu_1$, $\\mu_2$,...,$\\mu_n$} y desviaciones estandar : $\\sigma$ ={$\\sigma_1$, $\\sigma_2$,...,$\\sigma_n$}. Entonces, en el caso ideal se debe cumplir que: <br> <br>\n",
    "promedio($\\mu$) = $U_W$; y <br>\n",
    "promedio($\\sigma$) = $\\sigma_{IEC}$"
   ]
  },
  {
   "cell_type": "markdown",
   "id": "9d95e1e8",
   "metadata": {},
   "source": [
    "Donde: <br>\n",
    "    $\\sigma_{IEC}$ = $I_{ref}$*(0.75*$U_W$+5.6)"
   ]
  },
  {
   "cell_type": "markdown",
   "id": "decf2e70",
   "metadata": {},
   "source": [
    "En el mismo sentido, en el caso ideal, las desviaciones estandard del espacio muestral de medias debe tender a cero."
   ]
  },
  {
   "cell_type": "markdown",
   "id": "7f9a5fbf",
   "metadata": {},
   "source": [
    "## Importando librerías"
   ]
  },
  {
   "cell_type": "code",
   "execution_count": 78,
   "id": "643b6dbf",
   "metadata": {},
   "outputs": [],
   "source": [
    "import pandas as pd"
   ]
  },
  {
   "cell_type": "markdown",
   "id": "79bbefe3",
   "metadata": {},
   "source": [
    "## 1. Calculando valor ideal de $\\sigma_{IEC}$"
   ]
  },
  {
   "cell_type": "code",
   "execution_count": 79,
   "id": "76f6c00a",
   "metadata": {},
   "outputs": [],
   "source": [
    "Uw = [7, 10, 11.4, 12, 15, 18, 22, 25]"
   ]
  },
  {
   "cell_type": "code",
   "execution_count": 80,
   "id": "1e7c2abd",
   "metadata": {},
   "outputs": [],
   "source": [
    "Iref = 0.14"
   ]
  },
  {
   "cell_type": "code",
   "execution_count": 81,
   "id": "756255af",
   "metadata": {},
   "outputs": [],
   "source": [
    "sigmaIEC = []\n",
    "\n",
    "for i in range(len(Uw)):\n",
    "    sigmaIEC.append(round(Iref*(0.75*Uw[i]+5.6),3))"
   ]
  },
  {
   "cell_type": "code",
   "execution_count": 82,
   "id": "ef65c9af",
   "metadata": {},
   "outputs": [],
   "source": [
    "ideal_df = pd.DataFrame({'Uw': Uw, 'sigmaIEC': sigmaIEC})\n"
   ]
  },
  {
   "cell_type": "code",
   "execution_count": 83,
   "id": "d1ba8e71",
   "metadata": {
    "scrolled": true
   },
   "outputs": [
    {
     "data": {
      "text/html": [
       "<div>\n",
       "<style scoped>\n",
       "    .dataframe tbody tr th:only-of-type {\n",
       "        vertical-align: middle;\n",
       "    }\n",
       "\n",
       "    .dataframe tbody tr th {\n",
       "        vertical-align: top;\n",
       "    }\n",
       "\n",
       "    .dataframe thead th {\n",
       "        text-align: right;\n",
       "    }\n",
       "</style>\n",
       "<table border=\"1\" class=\"dataframe\">\n",
       "  <thead>\n",
       "    <tr style=\"text-align: right;\">\n",
       "      <th></th>\n",
       "      <th>Uw</th>\n",
       "      <th>sigmaIEC</th>\n",
       "    </tr>\n",
       "  </thead>\n",
       "  <tbody>\n",
       "    <tr>\n",
       "      <th>0</th>\n",
       "      <td>7.0</td>\n",
       "      <td>1.519</td>\n",
       "    </tr>\n",
       "    <tr>\n",
       "      <th>1</th>\n",
       "      <td>10.0</td>\n",
       "      <td>1.834</td>\n",
       "    </tr>\n",
       "    <tr>\n",
       "      <th>2</th>\n",
       "      <td>11.4</td>\n",
       "      <td>1.981</td>\n",
       "    </tr>\n",
       "    <tr>\n",
       "      <th>3</th>\n",
       "      <td>12.0</td>\n",
       "      <td>2.044</td>\n",
       "    </tr>\n",
       "    <tr>\n",
       "      <th>4</th>\n",
       "      <td>15.0</td>\n",
       "      <td>2.359</td>\n",
       "    </tr>\n",
       "    <tr>\n",
       "      <th>5</th>\n",
       "      <td>18.0</td>\n",
       "      <td>2.674</td>\n",
       "    </tr>\n",
       "    <tr>\n",
       "      <th>6</th>\n",
       "      <td>22.0</td>\n",
       "      <td>3.094</td>\n",
       "    </tr>\n",
       "    <tr>\n",
       "      <th>7</th>\n",
       "      <td>25.0</td>\n",
       "      <td>3.409</td>\n",
       "    </tr>\n",
       "  </tbody>\n",
       "</table>\n",
       "</div>"
      ],
      "text/plain": [
       "     Uw  sigmaIEC\n",
       "0   7.0     1.519\n",
       "1  10.0     1.834\n",
       "2  11.4     1.981\n",
       "3  12.0     2.044\n",
       "4  15.0     2.359\n",
       "5  18.0     2.674\n",
       "6  22.0     3.094\n",
       "7  25.0     3.409"
      ]
     },
     "execution_count": 83,
     "metadata": {},
     "output_type": "execute_result"
    }
   ],
   "source": [
    "ideal_df"
   ]
  },
  {
   "cell_type": "markdown",
   "id": "e53bd968",
   "metadata": {},
   "source": [
    "## 2. Calculando el $promedio(\\mu)$, $promedio(\\sigma)$ , $desv. est.(\\mu)$, $desv. est.(\\sigma)$y CV a partir de las realizaciones de tiempo generadas en TurbSim"
   ]
  },
  {
   "cell_type": "markdown",
   "id": "d910c962",
   "metadata": {},
   "source": [
    "### 2.1. Importando los datos de media y desviacion estandard de cada una de las realizaciones"
   ]
  },
  {
   "cell_type": "code",
   "execution_count": 84,
   "id": "ca99711d",
   "metadata": {},
   "outputs": [],
   "source": [
    "windSM = pd.read_excel(r'..\\data\\stats_wind_realizations.xlsx')"
   ]
  },
  {
   "cell_type": "code",
   "execution_count": 85,
   "id": "ce3061d1",
   "metadata": {},
   "outputs": [
    {
     "data": {
      "text/html": [
       "<div>\n",
       "<style scoped>\n",
       "    .dataframe tbody tr th:only-of-type {\n",
       "        vertical-align: middle;\n",
       "    }\n",
       "\n",
       "    .dataframe tbody tr th {\n",
       "        vertical-align: top;\n",
       "    }\n",
       "\n",
       "    .dataframe thead th {\n",
       "        text-align: right;\n",
       "    }\n",
       "</style>\n",
       "<table border=\"1\" class=\"dataframe\">\n",
       "  <thead>\n",
       "    <tr style=\"text-align: right;\">\n",
       "      <th></th>\n",
       "      <th>Uw [m/s]</th>\n",
       "      <th>mu(Vx) [m/s]</th>\n",
       "      <th>sigma(Vx) [m/s]</th>\n",
       "    </tr>\n",
       "  </thead>\n",
       "  <tbody>\n",
       "    <tr>\n",
       "      <th>0</th>\n",
       "      <td>7.0</td>\n",
       "      <td>7.027756</td>\n",
       "      <td>1.087782</td>\n",
       "    </tr>\n",
       "    <tr>\n",
       "      <th>1</th>\n",
       "      <td>7.0</td>\n",
       "      <td>6.995778</td>\n",
       "      <td>1.358742</td>\n",
       "    </tr>\n",
       "    <tr>\n",
       "      <th>2</th>\n",
       "      <td>7.0</td>\n",
       "      <td>7.015883</td>\n",
       "      <td>1.673092</td>\n",
       "    </tr>\n",
       "    <tr>\n",
       "      <th>3</th>\n",
       "      <td>7.0</td>\n",
       "      <td>6.985760</td>\n",
       "      <td>1.505596</td>\n",
       "    </tr>\n",
       "    <tr>\n",
       "      <th>4</th>\n",
       "      <td>7.0</td>\n",
       "      <td>7.001068</td>\n",
       "      <td>1.679398</td>\n",
       "    </tr>\n",
       "  </tbody>\n",
       "</table>\n",
       "</div>"
      ],
      "text/plain": [
       "   Uw [m/s]  mu(Vx) [m/s]  sigma(Vx) [m/s]\n",
       "0       7.0      7.027756         1.087782\n",
       "1       7.0      6.995778         1.358742\n",
       "2       7.0      7.015883         1.673092\n",
       "3       7.0      6.985760         1.505596\n",
       "4       7.0      7.001068         1.679398"
      ]
     },
     "execution_count": 85,
     "metadata": {},
     "output_type": "execute_result"
    }
   ],
   "source": [
    "# Este dataframe constituye el espacio muestral de las medias y desviaciones estandar de las realziaciones generadas en TurbSim\n",
    "windSM.head()"
   ]
  },
  {
   "cell_type": "markdown",
   "id": "c082fbae",
   "metadata": {},
   "source": [
    "### 2.2. Calculando los valores promedio de las medias y desviaciones estandar del espacio muestral"
   ]
  },
  {
   "cell_type": "code",
   "execution_count": 86,
   "id": "13874a46",
   "metadata": {},
   "outputs": [],
   "source": [
    "df_mean = windSM.groupby('Uw [m/s]').mean().reset_index()\n",
    "df_mean = df_mean.rename(columns = {'Uw [m/s]':'Uw','mu(Vx) [m/s]':'prom($\\mu$)','sigma(Vx) [m/s]':'prom($\\sigma$)'})"
   ]
  },
  {
   "cell_type": "code",
   "execution_count": 87,
   "id": "9ae2aa1c",
   "metadata": {},
   "outputs": [
    {
     "data": {
      "text/html": [
       "<div>\n",
       "<style scoped>\n",
       "    .dataframe tbody tr th:only-of-type {\n",
       "        vertical-align: middle;\n",
       "    }\n",
       "\n",
       "    .dataframe tbody tr th {\n",
       "        vertical-align: top;\n",
       "    }\n",
       "\n",
       "    .dataframe thead th {\n",
       "        text-align: right;\n",
       "    }\n",
       "</style>\n",
       "<table border=\"1\" class=\"dataframe\">\n",
       "  <thead>\n",
       "    <tr style=\"text-align: right;\">\n",
       "      <th></th>\n",
       "      <th>Uw</th>\n",
       "      <th>prom($\\mu$)</th>\n",
       "      <th>prom($\\sigma$)</th>\n",
       "    </tr>\n",
       "  </thead>\n",
       "  <tbody>\n",
       "    <tr>\n",
       "      <th>0</th>\n",
       "      <td>7.0</td>\n",
       "      <td>6.998</td>\n",
       "      <td>1.399</td>\n",
       "    </tr>\n",
       "    <tr>\n",
       "      <th>1</th>\n",
       "      <td>10.0</td>\n",
       "      <td>10.001</td>\n",
       "      <td>1.708</td>\n",
       "    </tr>\n",
       "    <tr>\n",
       "      <th>2</th>\n",
       "      <td>11.4</td>\n",
       "      <td>11.398</td>\n",
       "      <td>1.866</td>\n",
       "    </tr>\n",
       "    <tr>\n",
       "      <th>3</th>\n",
       "      <td>12.0</td>\n",
       "      <td>11.996</td>\n",
       "      <td>1.930</td>\n",
       "    </tr>\n",
       "    <tr>\n",
       "      <th>4</th>\n",
       "      <td>15.0</td>\n",
       "      <td>15.005</td>\n",
       "      <td>2.258</td>\n",
       "    </tr>\n",
       "    <tr>\n",
       "      <th>5</th>\n",
       "      <td>18.0</td>\n",
       "      <td>18.001</td>\n",
       "      <td>2.551</td>\n",
       "    </tr>\n",
       "    <tr>\n",
       "      <th>6</th>\n",
       "      <td>22.0</td>\n",
       "      <td>21.996</td>\n",
       "      <td>2.976</td>\n",
       "    </tr>\n",
       "    <tr>\n",
       "      <th>7</th>\n",
       "      <td>25.0</td>\n",
       "      <td>25.000</td>\n",
       "      <td>3.315</td>\n",
       "    </tr>\n",
       "  </tbody>\n",
       "</table>\n",
       "</div>"
      ],
      "text/plain": [
       "     Uw  prom($\\mu$)  prom($\\sigma$)\n",
       "0   7.0        6.998           1.399\n",
       "1  10.0       10.001           1.708\n",
       "2  11.4       11.398           1.866\n",
       "3  12.0       11.996           1.930\n",
       "4  15.0       15.005           2.258\n",
       "5  18.0       18.001           2.551\n",
       "6  22.0       21.996           2.976\n",
       "7  25.0       25.000           3.315"
      ]
     },
     "execution_count": 87,
     "metadata": {},
     "output_type": "execute_result"
    }
   ],
   "source": [
    "df_mean.round(3)"
   ]
  },
  {
   "cell_type": "markdown",
   "id": "71d3b424",
   "metadata": {},
   "source": [
    "Los valores de la tabla 'df_mean', en el caso ideal, deberian coincidir con los de la tabla 'ideal_df', pero una discrepanci puede esperarse debido a que esta ultima tabla se basa en calculos numericos computacionales, asi que hay varias fuentes de error que influyen en los datos. Para medir esta discrepancia, se debe calcular el coeficiente de variacion tanto para la media como para la desviacion estandar."
   ]
  },
  {
   "cell_type": "markdown",
   "id": "fc5b52db",
   "metadata": {},
   "source": [
    "### 2.3. Calculando las desviaciones estandar de las medias y desvaiciones estandar del espacio muestral"
   ]
  },
  {
   "cell_type": "code",
   "execution_count": 88,
   "id": "c46326ae",
   "metadata": {},
   "outputs": [],
   "source": [
    "df_std = windSM.groupby('Uw [m/s]').std().reset_index()\n",
    "df_std = df_std.rename(columns = {'Uw [m/s]':'Uw','mu(Vx) [m/s]':'std($\\mu$)','sigma(Vx) [m/s]':'std($\\sigma$)'})"
   ]
  },
  {
   "cell_type": "code",
   "execution_count": 89,
   "id": "4373aa53",
   "metadata": {
    "scrolled": true
   },
   "outputs": [
    {
     "data": {
      "text/html": [
       "<div>\n",
       "<style scoped>\n",
       "    .dataframe tbody tr th:only-of-type {\n",
       "        vertical-align: middle;\n",
       "    }\n",
       "\n",
       "    .dataframe tbody tr th {\n",
       "        vertical-align: top;\n",
       "    }\n",
       "\n",
       "    .dataframe thead th {\n",
       "        text-align: right;\n",
       "    }\n",
       "</style>\n",
       "<table border=\"1\" class=\"dataframe\">\n",
       "  <thead>\n",
       "    <tr style=\"text-align: right;\">\n",
       "      <th></th>\n",
       "      <th>Uw</th>\n",
       "      <th>std($\\mu$)</th>\n",
       "      <th>std($\\sigma$)</th>\n",
       "    </tr>\n",
       "  </thead>\n",
       "  <tbody>\n",
       "    <tr>\n",
       "      <th>0</th>\n",
       "      <td>7.0</td>\n",
       "      <td>0.039</td>\n",
       "      <td>0.162</td>\n",
       "    </tr>\n",
       "    <tr>\n",
       "      <th>1</th>\n",
       "      <td>10.0</td>\n",
       "      <td>0.036</td>\n",
       "      <td>0.184</td>\n",
       "    </tr>\n",
       "    <tr>\n",
       "      <th>2</th>\n",
       "      <td>11.4</td>\n",
       "      <td>0.035</td>\n",
       "      <td>0.196</td>\n",
       "    </tr>\n",
       "    <tr>\n",
       "      <th>3</th>\n",
       "      <td>12.0</td>\n",
       "      <td>0.029</td>\n",
       "      <td>0.168</td>\n",
       "    </tr>\n",
       "    <tr>\n",
       "      <th>4</th>\n",
       "      <td>15.0</td>\n",
       "      <td>0.030</td>\n",
       "      <td>0.200</td>\n",
       "    </tr>\n",
       "    <tr>\n",
       "      <th>5</th>\n",
       "      <td>18.0</td>\n",
       "      <td>0.030</td>\n",
       "      <td>0.225</td>\n",
       "    </tr>\n",
       "    <tr>\n",
       "      <th>6</th>\n",
       "      <td>22.0</td>\n",
       "      <td>0.031</td>\n",
       "      <td>0.216</td>\n",
       "    </tr>\n",
       "    <tr>\n",
       "      <th>7</th>\n",
       "      <td>25.0</td>\n",
       "      <td>0.024</td>\n",
       "      <td>0.259</td>\n",
       "    </tr>\n",
       "  </tbody>\n",
       "</table>\n",
       "</div>"
      ],
      "text/plain": [
       "     Uw  std($\\mu$)  std($\\sigma$)\n",
       "0   7.0       0.039          0.162\n",
       "1  10.0       0.036          0.184\n",
       "2  11.4       0.035          0.196\n",
       "3  12.0       0.029          0.168\n",
       "4  15.0       0.030          0.200\n",
       "5  18.0       0.030          0.225\n",
       "6  22.0       0.031          0.216\n",
       "7  25.0       0.024          0.259"
      ]
     },
     "execution_count": 89,
     "metadata": {},
     "output_type": "execute_result"
    }
   ],
   "source": [
    "df_std.round(3)"
   ]
  },
  {
   "cell_type": "markdown",
   "id": "c9d6c3e0",
   "metadata": {},
   "source": [
    "En el caso ideal, las desvaiciones estandar deben ser cero, sin embargo se observa que aunque estos valores son pequeños no son cero."
   ]
  },
  {
   "cell_type": "markdown",
   "id": "945883a0",
   "metadata": {},
   "source": [
    "### 2.4. Calculando el coeficiente de variacion (CV) tanto para las medias como para las desviaciones estandar del espacio muestral"
   ]
  },
  {
   "cell_type": "code",
   "execution_count": 90,
   "id": "20a91dcb",
   "metadata": {},
   "outputs": [],
   "source": [
    "#Uniendo las tablas de meadias y desviaciones estandar\n",
    "df_cv = pd.merge(df_mean, df_std , on = 'Uw')"
   ]
  },
  {
   "cell_type": "code",
   "execution_count": 91,
   "id": "fecc11bf",
   "metadata": {},
   "outputs": [],
   "source": [
    "df_cv['CV($\\mu$) [%]'] = df_cv['std($\\mu$)']/df_cv['prom($\\mu$)']*100\n",
    "df_cv['CV($\\sigma$) [%]'] = df_cv['std($\\sigma$)']/df_cv['prom($\\sigma$)']*100"
   ]
  },
  {
   "cell_type": "code",
   "execution_count": 92,
   "id": "50ee2265",
   "metadata": {},
   "outputs": [
    {
     "data": {
      "text/html": [
       "<div>\n",
       "<style scoped>\n",
       "    .dataframe tbody tr th:only-of-type {\n",
       "        vertical-align: middle;\n",
       "    }\n",
       "\n",
       "    .dataframe tbody tr th {\n",
       "        vertical-align: top;\n",
       "    }\n",
       "\n",
       "    .dataframe thead th {\n",
       "        text-align: right;\n",
       "    }\n",
       "</style>\n",
       "<table border=\"1\" class=\"dataframe\">\n",
       "  <thead>\n",
       "    <tr style=\"text-align: right;\">\n",
       "      <th></th>\n",
       "      <th>Uw</th>\n",
       "      <th>prom($\\mu$)</th>\n",
       "      <th>prom($\\sigma$)</th>\n",
       "      <th>std($\\mu$)</th>\n",
       "      <th>std($\\sigma$)</th>\n",
       "      <th>CV($\\mu$) [%]</th>\n",
       "      <th>CV($\\sigma$) [%]</th>\n",
       "    </tr>\n",
       "  </thead>\n",
       "  <tbody>\n",
       "    <tr>\n",
       "      <th>0</th>\n",
       "      <td>7.0</td>\n",
       "      <td>6.998</td>\n",
       "      <td>1.399</td>\n",
       "      <td>0.039</td>\n",
       "      <td>0.162</td>\n",
       "      <td>0.551</td>\n",
       "      <td>11.580</td>\n",
       "    </tr>\n",
       "    <tr>\n",
       "      <th>1</th>\n",
       "      <td>10.0</td>\n",
       "      <td>10.001</td>\n",
       "      <td>1.708</td>\n",
       "      <td>0.036</td>\n",
       "      <td>0.184</td>\n",
       "      <td>0.364</td>\n",
       "      <td>10.784</td>\n",
       "    </tr>\n",
       "    <tr>\n",
       "      <th>2</th>\n",
       "      <td>11.4</td>\n",
       "      <td>11.398</td>\n",
       "      <td>1.866</td>\n",
       "      <td>0.035</td>\n",
       "      <td>0.196</td>\n",
       "      <td>0.309</td>\n",
       "      <td>10.480</td>\n",
       "    </tr>\n",
       "    <tr>\n",
       "      <th>3</th>\n",
       "      <td>12.0</td>\n",
       "      <td>11.996</td>\n",
       "      <td>1.930</td>\n",
       "      <td>0.029</td>\n",
       "      <td>0.168</td>\n",
       "      <td>0.243</td>\n",
       "      <td>8.696</td>\n",
       "    </tr>\n",
       "    <tr>\n",
       "      <th>4</th>\n",
       "      <td>15.0</td>\n",
       "      <td>15.005</td>\n",
       "      <td>2.258</td>\n",
       "      <td>0.030</td>\n",
       "      <td>0.200</td>\n",
       "      <td>0.202</td>\n",
       "      <td>8.878</td>\n",
       "    </tr>\n",
       "    <tr>\n",
       "      <th>5</th>\n",
       "      <td>18.0</td>\n",
       "      <td>18.001</td>\n",
       "      <td>2.551</td>\n",
       "      <td>0.030</td>\n",
       "      <td>0.225</td>\n",
       "      <td>0.164</td>\n",
       "      <td>8.833</td>\n",
       "    </tr>\n",
       "    <tr>\n",
       "      <th>6</th>\n",
       "      <td>22.0</td>\n",
       "      <td>21.996</td>\n",
       "      <td>2.976</td>\n",
       "      <td>0.031</td>\n",
       "      <td>0.216</td>\n",
       "      <td>0.140</td>\n",
       "      <td>7.258</td>\n",
       "    </tr>\n",
       "    <tr>\n",
       "      <th>7</th>\n",
       "      <td>25.0</td>\n",
       "      <td>25.000</td>\n",
       "      <td>3.315</td>\n",
       "      <td>0.024</td>\n",
       "      <td>0.259</td>\n",
       "      <td>0.094</td>\n",
       "      <td>7.827</td>\n",
       "    </tr>\n",
       "  </tbody>\n",
       "</table>\n",
       "</div>"
      ],
      "text/plain": [
       "     Uw  prom($\\mu$)  prom($\\sigma$)  std($\\mu$)  std($\\sigma$)  \\\n",
       "0   7.0        6.998           1.399       0.039          0.162   \n",
       "1  10.0       10.001           1.708       0.036          0.184   \n",
       "2  11.4       11.398           1.866       0.035          0.196   \n",
       "3  12.0       11.996           1.930       0.029          0.168   \n",
       "4  15.0       15.005           2.258       0.030          0.200   \n",
       "5  18.0       18.001           2.551       0.030          0.225   \n",
       "6  22.0       21.996           2.976       0.031          0.216   \n",
       "7  25.0       25.000           3.315       0.024          0.259   \n",
       "\n",
       "   CV($\\mu$) [%]  CV($\\sigma$) [%]  \n",
       "0          0.551            11.580  \n",
       "1          0.364            10.784  \n",
       "2          0.309            10.480  \n",
       "3          0.243             8.696  \n",
       "4          0.202             8.878  \n",
       "5          0.164             8.833  \n",
       "6          0.140             7.258  \n",
       "7          0.094             7.827  "
      ]
     },
     "execution_count": 92,
     "metadata": {},
     "output_type": "execute_result"
    }
   ],
   "source": [
    "df_cv.round(3)"
   ]
  },
  {
   "cell_type": "code",
   "execution_count": 94,
   "id": "24a606b3",
   "metadata": {},
   "outputs": [],
   "source": [
    "df_cv.to_excel('(Resultados) CV_espacio muestral.xlsx', index = False)"
   ]
  }
 ],
 "metadata": {
  "kernelspec": {
   "display_name": "Python 3 (ipykernel)",
   "language": "python",
   "name": "python3"
  },
  "language_info": {
   "codemirror_mode": {
    "name": "ipython",
    "version": 3
   },
   "file_extension": ".py",
   "mimetype": "text/x-python",
   "name": "python",
   "nbconvert_exporter": "python",
   "pygments_lexer": "ipython3",
   "version": "3.10.9"
  }
 },
 "nbformat": 4,
 "nbformat_minor": 5
}
