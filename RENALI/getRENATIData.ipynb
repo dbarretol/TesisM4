{
 "cells": [
  {
   "cell_type": "markdown",
   "id": "3261ac1d",
   "metadata": {},
   "source": [
    "Este script sirve para: <br>\n",
    "1.- Abrir el navegador<br>\n",
    "2.- Ir a RENATI (https://renati.sunedu.gob.pe/)<br>\n",
    "3.- Lanzar búsquedas usando un términos específicos<br>\n",
    "4.- Extraer los urls de todos los resultados<br>\n",
    "5.- Guardar los urls en un archivo externo.<br>\n",
    "Dichos urls seran datos de entrada para obtener la informacion detallada de cada item (tesis, articulo, etc.)"
   ]
  },
  {
   "cell_type": "markdown",
   "id": "ee15e57d",
   "metadata": {},
   "source": [
    "# 1. Librerías"
   ]
  },
  {
   "cell_type": "code",
   "execution_count": 1,
   "id": "16b90999",
   "metadata": {},
   "outputs": [],
   "source": [
    "import pandas as pd\n",
    "import time, os, re"
   ]
  },
  {
   "cell_type": "code",
   "execution_count": 2,
   "id": "e90a3c2a",
   "metadata": {},
   "outputs": [],
   "source": [
    "from selenium import webdriver\n",
    "from bs4 import BeautifulSoup\n",
    "\n",
    "from selenium.webdriver.support.wait import WebDriverWait\n",
    "from selenium.webdriver.support import expected_conditions as EC\n",
    "from selenium.webdriver.common.by import By"
   ]
  },
  {
   "cell_type": "markdown",
   "id": "6e8e4833",
   "metadata": {},
   "source": [
    "# 2. Variables globales"
   ]
  },
  {
   "cell_type": "code",
   "execution_count": 3,
   "id": "239fee6f",
   "metadata": {},
   "outputs": [],
   "source": [
    "RENATI_url = 'https://renati.sunedu.gob.pe'"
   ]
  },
  {
   "cell_type": "code",
   "execution_count": 4,
   "id": "e728982f",
   "metadata": {},
   "outputs": [],
   "source": [
    "#esta línea debe actualizarse si se cambia de versión de chromedriver\n",
    "chrome_path = r'.\\ext\\111.0.5563.64\\chromedriver.exe'"
   ]
  },
  {
   "cell_type": "markdown",
   "id": "18fd8981",
   "metadata": {},
   "source": [
    "# 3. Definición de funciones (I)"
   ]
  },
  {
   "cell_type": "code",
   "execution_count": 5,
   "id": "f4cb41c9",
   "metadata": {},
   "outputs": [],
   "source": [
    "#Función para iniciar una nueva instancia del navegador Chrome\n",
    "def openWebNav():\n",
    "    \n",
    "    WebNavObj = webdriver.Chrome(executable_path = chrome_path)\n",
    "    \n",
    "    return WebNavObj"
   ]
  },
  {
   "cell_type": "code",
   "execution_count": 6,
   "id": "57bc70e7",
   "metadata": {},
   "outputs": [],
   "source": [
    "def getCurrentHTML(WebNavObj):\n",
    "    ps = WebNavObj.page_source\n",
    "    soupObj =BeautifulSoup(ps, 'lxml')\n",
    "    \n",
    "    return soupObj"
   ]
  },
  {
   "cell_type": "code",
   "execution_count": 7,
   "id": "c813389c",
   "metadata": {},
   "outputs": [],
   "source": [
    "def runRENATIsearch(WebNavObj, kwStr):\n",
    "    selStr = \"input[type='text']\"\n",
    "\n",
    "    try:\n",
    "        sBox = WebDriverWait(WebNavObj,10).until(EC.element_to_be_clickable((By.CSS_SELECTOR, selStr)))\n",
    "        sBox.clear()\n",
    "        sBox.send_keys(kwStr + '\\n')\n",
    "    except:\n",
    "        print(f\"\\tError al buscar {kwStr}. Hazlo manualmente...\")\n",
    "        input(\"\\tEn espera...(presione tecla)...\")"
   ]
  },
  {
   "cell_type": "code",
   "execution_count": 8,
   "id": "b9f3ffc2",
   "metadata": {},
   "outputs": [],
   "source": [
    "def getNrRENATI(WebNavObj):\n",
    "    \n",
    "    soupObj = getCurrentHTML(WebNavObj)\n",
    "    tagNr = ['div','alert alert-info']\n",
    "\n",
    "    NrElem = soupObj.find(tagNr[0],{'class':tagNr[1]})\n",
    "    \n",
    "    if NrElem is not None:\n",
    "        try:\n",
    "            Nr = NrElem.text\n",
    "            Nr = Nr.split()\n",
    "            Nr = Nr[3].replace(\".\",\"\")\n",
    "            Nr = int(Nr)\n",
    "        except:\n",
    "            print(\"No se ubicó la cantidad de resultados.\")\n",
    "            Nr = input(\"Ingrese el número manualmente =>\")\n",
    "            Nr = int(Nr)\n",
    "    else:\n",
    "        Nr = 0\n",
    "        \n",
    "    return Nr    "
   ]
  },
  {
   "cell_type": "code",
   "execution_count": 9,
   "id": "aa5b39fc",
   "metadata": {},
   "outputs": [],
   "source": [
    "def getRENATIurls(soupObj):\n",
    "    #Encontrar todos los elementos 'a' con href que comiencen con '/handle/sunedu/'\n",
    "    RENATIurls = soupObj.find_all('a', href=lambda href: href and href.startswith('/handle/sunedu/'))\n",
    "    \n",
    "    href_values = []\n",
    "    \n",
    "    #Iterar sobre RENATIurls y extraer el valor de href\n",
    "    for e in RENATIurls:\n",
    "        href = e.get('href')\n",
    "        href_values.append(href)\n",
    "        \n",
    "    return href_values  "
   ]
  },
  {
   "cell_type": "code",
   "execution_count": 10,
   "id": "83a477d5",
   "metadata": {},
   "outputs": [],
   "source": [
    "def saveRENATIurlsList(LstObj, kwStr, pathStr):\n",
    "    \n",
    "    fName = \"RENATI-\" + kwStr + \" (\" + str(len(LstObj)) + \")\" + \".txt\"\n",
    "    fPath = pathStr + fName\n",
    "    \n",
    "    with open(fPath, \"w\") as file:\n",
    "        for e in LstObj:\n",
    "            file.write(str(e) + \"\\n\")"
   ]
  },
  {
   "cell_type": "markdown",
   "id": "5cd4b497",
   "metadata": {},
   "source": [
    "# 4. Programa principal para obtener lista de URLs de RENATI"
   ]
  },
  {
   "cell_type": "markdown",
   "id": "bd28ba0e",
   "metadata": {},
   "source": [
    "## 4.1. Abrir navegador"
   ]
  },
  {
   "cell_type": "code",
   "execution_count": 14,
   "id": "c6f10584",
   "metadata": {},
   "outputs": [],
   "source": [
    "WebNavObj = openWebNav()\n",
    "WebNavObj.maximize_window()\n",
    "WebNavObj.get(RENATI_url)"
   ]
  },
  {
   "cell_type": "markdown",
   "id": "bfb9963d",
   "metadata": {},
   "source": [
    "## 4.2. Lanzando una busqueda"
   ]
  },
  {
   "cell_type": "code",
   "execution_count": 15,
   "id": "6162772c",
   "metadata": {},
   "outputs": [],
   "source": [
    "kwList = [\"aerogenerador\", \"energía eólica\", \"eólica\", \"generador eólico\", \"turbina eólica\", \"wind energy\", \"wind turbine\"]"
   ]
  },
  {
   "cell_type": "code",
   "execution_count": 16,
   "id": "4be9adfa",
   "metadata": {},
   "outputs": [
    {
     "name": "stdout",
     "output_type": "stream",
     "text": [
      "\tLa búsqueda del término aerogenerador arrojó 169 documentos.\n",
      "\t\tEl botón 'Siguiente' esta deshabilitado.\n",
      "\tLa búsqueda del término energía eólica arrojó 329 documentos.\n",
      "\t\tEl botón 'Siguiente' esta deshabilitado.\n",
      "\tLa búsqueda del término eólica arrojó 384 documentos.\n",
      "\t\tEl botón 'Siguiente' esta deshabilitado.\n",
      "\tLa búsqueda del término generador eólico arrojó 55 documentos.\n",
      "\t\tEl botón 'Siguiente' esta deshabilitado.\n",
      "\tLa búsqueda del término turbina eólica arrojó 72 documentos.\n",
      "\t\tEl botón 'Siguiente' esta deshabilitado.\n",
      "\tLa búsqueda del término wind energy arrojó 177 documentos.\n",
      "\t\tEl botón 'Siguiente' esta deshabilitado.\n",
      "\tLa búsqueda del término wind turbine arrojó 44 documentos.\n",
      "\t\tEl botón 'Siguiente' esta deshabilitado.\n"
     ]
    }
   ],
   "source": [
    "for kwStr in kwList:\n",
    "    \n",
    "    #Lanzando búsqueda\n",
    "    runRENATIsearch(WebNavObj, kwStr)\n",
    "    \n",
    "    #Obteniendo el número de resultados\n",
    "    Nr = getNrRENATI(WebNavObj)\n",
    "    print(f\"\\tLa búsqueda del término {kwStr} arrojó {Nr} documentos.\")\n",
    "    \n",
    "    nTabs = int(Nr/10)\n",
    "    \n",
    "    RENATI_URLS = []\n",
    "    \n",
    "    for t in range(1, nTabs + 2, 1):\n",
    "        soupObj = getCurrentHTML(WebNavObj) #Código HTML de la página actual        \n",
    "        tmpURLs = getRENATIurls(soupObj)    #URLs de la página actual\n",
    "        RENATI_URLS.extend(tmpURLs)         #Guardando lista de URLS en una lista acumulada\n",
    "        \n",
    "        #Visitando la siguiente pestaña\n",
    "        time.sleep(1)\n",
    "        try:\n",
    "            sigBut = WebNavObj.find_element_by_link_text(\"Siguiente\")\n",
    "            sigBut.click()\n",
    "        except:\n",
    "            print(\"\\t\\tEl botón 'Siguiente' esta deshabilitado.\")\n",
    "    #Guardando la lista de enlaces\n",
    "    RENATI_URLS = list(set(RENATI_URLS))\n",
    "    saveRENATIurlsList(RENATI_URLS, kwStr, './lists/RENATI/')"
   ]
  },
  {
   "cell_type": "markdown",
   "id": "b7c69c6f",
   "metadata": {},
   "source": [
    "## 4.3. Cerrar navegador"
   ]
  },
  {
   "cell_type": "code",
   "execution_count": 17,
   "id": "ed3f8752",
   "metadata": {},
   "outputs": [],
   "source": [
    "WebNavObj.close()\n",
    "WebNavObj.quit()"
   ]
  },
  {
   "cell_type": "markdown",
   "id": "d6027d2f",
   "metadata": {},
   "source": [
    "#--> ===================================================================================="
   ]
  },
  {
   "cell_type": "code",
   "execution_count": 19,
   "id": "78cc5250",
   "metadata": {},
   "outputs": [
    {
     "name": "stdout",
     "output_type": "stream",
     "text": [
      "ATENCIÓN!!  Leer mensaje... \n"
     ]
    },
    {
     "data": {
      "text/plain": [
       "' '"
      ]
     },
     "execution_count": 19,
     "metadata": {},
     "output_type": "execute_result"
    }
   ],
   "source": [
    "input(\"ATENCIÓN!!  Leer mensaje...\")"
   ]
  },
  {
   "cell_type": "markdown",
   "id": "53783670",
   "metadata": {},
   "source": [
    "No ejecutar el código lineas abajo si la carpeta '.\\lists\\RENATI' esta vacía."
   ]
  },
  {
   "cell_type": "markdown",
   "id": "cf0ae485",
   "metadata": {},
   "source": [
    "# 5. Programa principal para obtener detalles a partir de listado de URLs de RENATI"
   ]
  },
  {
   "cell_type": "markdown",
   "id": "4a2a4557",
   "metadata": {},
   "source": [
    "# 5.1. Definición de funciones (II)"
   ]
  },
  {
   "cell_type": "code",
   "execution_count": 20,
   "id": "a8f40331",
   "metadata": {},
   "outputs": [],
   "source": [
    "def consolidarRENATItxt(pathStr):\n",
    "    files = [f for f in os.listdir(pathStr) if re.match(r'RENATI.*\\.txt', f)]\n",
    "    \n",
    "    RENATIurls = set()\n",
    "    \n",
    "    for txtf in files:\n",
    "        with open(os.path.join(pathStr, txtf), 'r') as f:\n",
    "            for linea in f:\n",
    "                RENATIurls.add(linea.strip())\n",
    "                \n",
    "    return list(RENATIurls)"
   ]
  },
  {
   "cell_type": "code",
   "execution_count": 21,
   "id": "5caf5197",
   "metadata": {},
   "outputs": [],
   "source": [
    "def getBasicMtdata(basicBlock):\n",
    "    metadata_dict = {}\n",
    "\n",
    "    labels = basicBlock.find_all(class_='metadataFieldLabel')\n",
    "    values = basicBlock.find_all(class_='metadataFieldValue')\n",
    "\n",
    "    for i in range(len(labels)):\n",
    "        metadata_dict[labels[i].text.strip()] = values[i].text.strip()\n",
    "    return metadata_dict"
   ]
  },
  {
   "cell_type": "code",
   "execution_count": 22,
   "id": "954e6631",
   "metadata": {},
   "outputs": [],
   "source": [
    "def getPageMtdata(soupObj, urlStr):\n",
    "    mtdataArr = soupObj.find_all(class_ = 'metadataField')\n",
    "    \n",
    "    pageMtdata = {'URL:':urlStr}\n",
    "    for i in range(len(mtdataArr)):\n",
    "        dict_temp = getBasicMtdata(mtdataArr[i])\n",
    "        pageMtdata.update(dict_temp)\n",
    "    return pageMtdata"
   ]
  },
  {
   "cell_type": "code",
   "execution_count": 23,
   "id": "0a837314",
   "metadata": {},
   "outputs": [],
   "source": [
    "def dictArrtoDf(dictArrObj):\n",
    "    # obtener lista de claves únicas\n",
    "    headers = list(set().union(*dictArrObj))\n",
    "    \n",
    "    # crear DataFrame con claves como columnas\n",
    "    df = pd.DataFrame(columns = headers)\n",
    "    \n",
    "    # agregar cada diccionario como fila en el DataFrame\n",
    "    for dic in dictArrObj:\n",
    "        # Se convierte el diccionario en un DataFrame\n",
    "        df_temp = pd.DataFrame.from_dict(dic, orient='index').T\n",
    "        \n",
    "        # Se concatena el DataFrame temporal con el DataFrame acumulado\n",
    "        df = pd.concat([df, df_temp], ignore_index=True, sort=False)\n",
    "    \n",
    "    return df  "
   ]
  },
  {
   "cell_type": "code",
   "execution_count": null,
   "id": "160e5a60",
   "metadata": {},
   "outputs": [],
   "source": []
  },
  {
   "cell_type": "code",
   "execution_count": null,
   "id": "a883661c",
   "metadata": {},
   "outputs": [],
   "source": []
  },
  {
   "cell_type": "markdown",
   "id": "44838971",
   "metadata": {},
   "source": [
    "## 5.1. Cargando datos de los enlaces"
   ]
  },
  {
   "cell_type": "code",
   "execution_count": 24,
   "id": "52669078",
   "metadata": {},
   "outputs": [
    {
     "name": "stdout",
     "output_type": "stream",
     "text": [
      "Se cargaron un total de 571 enlaces para analizar.\n"
     ]
    }
   ],
   "source": [
    "RENATIurls = consolidarRENATItxt('./lists/RENATI/')\n",
    "print(f'Se cargaron un total de {len(RENATIurls)} enlaces para analizar.')"
   ]
  },
  {
   "cell_type": "markdown",
   "id": "3d8df735",
   "metadata": {},
   "source": [
    "## 5.1. Abrir navegador"
   ]
  },
  {
   "cell_type": "code",
   "execution_count": 25,
   "id": "b01cfc2d",
   "metadata": {},
   "outputs": [],
   "source": [
    "WebNavObj = openWebNav()\n",
    "WebNavObj.maximize_window()\n",
    "WebNavObj.get(RENATI_url)"
   ]
  },
  {
   "cell_type": "markdown",
   "id": "73832e82",
   "metadata": {},
   "source": [
    "Esperar que cargue la pagina, puede demorar un poco"
   ]
  },
  {
   "cell_type": "markdown",
   "id": "5cf1d91d",
   "metadata": {},
   "source": [
    "## 5.2. Visitando páginas y recolectando información generando un arreglo de diccionarios"
   ]
  },
  {
   "cell_type": "code",
   "execution_count": 26,
   "id": "927d8c5a",
   "metadata": {},
   "outputs": [],
   "source": [
    "RENATIMtdata = []\n",
    "for i in range(len(RENATIurls)): #\n",
    "    WebNavObj.get(RENATI_url + RENATIurls[i])\n",
    "    time.sleep(0.5)\n",
    "    \n",
    "    soupObj = getCurrentHTML(WebNavObj)\n",
    "    urlMtdata = getPageMtdata(soupObj, RENATI_url + RENATIurls[i])\n",
    "    \n",
    "    RENATIMtdata.append(urlMtdata)"
   ]
  },
  {
   "cell_type": "markdown",
   "id": "49cadcec",
   "metadata": {},
   "source": [
    "La ejecución de esta celda puede demorar dependiendo de cuantos registros tenga que visitar."
   ]
  },
  {
   "cell_type": "markdown",
   "id": "1f7c84ff",
   "metadata": {},
   "source": [
    "## 5.3. Generando un dataframe a partir del arreglo de diccionarios"
   ]
  },
  {
   "cell_type": "code",
   "execution_count": 27,
   "id": "072d808f",
   "metadata": {},
   "outputs": [],
   "source": [
    "RENATIrecords = dictArrtoDf(RENATIMtdata)"
   ]
  },
  {
   "cell_type": "code",
   "execution_count": 28,
   "id": "82402180",
   "metadata": {},
   "outputs": [],
   "source": [
    "RENATIrecords.to_excel('RENATI_RawData.xlsx', index = False)"
   ]
  },
  {
   "cell_type": "markdown",
   "id": "03138544",
   "metadata": {},
   "source": [
    "### 5.3.1. Extrayendo un dataframe solo con las columnas mas relevantes"
   ]
  },
  {
   "cell_type": "code",
   "execution_count": 29,
   "id": "e04c97e3",
   "metadata": {},
   "outputs": [],
   "source": [
    "ColRed = ['URL:',\n",
    "     'Enlace al repositorio:',\n",
    "     'Aparece en las colecciones:',\n",
    "     'Institución:',\n",
    "     'Institución que otorga el grado o título:',\n",
    "     'Disciplina académico-profesional:',\n",
    "     'Grado o título:',\n",
    "     'Título:',\n",
    "     'Autor(es):',\n",
    "     'Asesor(es):',\n",
    "     'Fecha de publicación:',\n",
    "     'Palabras clave:']"
   ]
  },
  {
   "cell_type": "code",
   "execution_count": 30,
   "id": "e444bc11",
   "metadata": {},
   "outputs": [],
   "source": [
    "RENATIrecordsRed = RENATIrecords.loc[:, ColRed]"
   ]
  },
  {
   "cell_type": "code",
   "execution_count": 31,
   "id": "916a8799",
   "metadata": {},
   "outputs": [],
   "source": [
    "RENATIrecordsRed.to_excel('RENATI_reduced.xlsx', index = False)"
   ]
  },
  {
   "cell_type": "code",
   "execution_count": null,
   "id": "b350c7fe",
   "metadata": {},
   "outputs": [],
   "source": []
  },
  {
   "cell_type": "code",
   "execution_count": null,
   "id": "9b891775",
   "metadata": {},
   "outputs": [],
   "source": []
  },
  {
   "cell_type": "markdown",
   "id": "0a1a6640",
   "metadata": {},
   "source": [
    "# 6. Programa principal para normalizar titulo y autores y generar un identificador único para detectar registros dusplicados"
   ]
  },
  {
   "cell_type": "code",
   "execution_count": 32,
   "id": "264cbf96",
   "metadata": {},
   "outputs": [],
   "source": [
    "import hashlib"
   ]
  },
  {
   "cell_type": "markdown",
   "id": "07163372",
   "metadata": {},
   "source": [
    "## 6.1. Definición de funciones"
   ]
  },
  {
   "cell_type": "code",
   "execution_count": 33,
   "id": "a487ffe9",
   "metadata": {},
   "outputs": [],
   "source": [
    "def normalize_title(title):\n",
    "    # Eliminar signos de puntuación y espacios en blanco extra\n",
    "    normalized_title = title.strip().replace(' ','').replace('\"','').replace('.', '').replace(',', '').replace('-', '').lower()    \n",
    "    \n",
    "    return normalized_title"
   ]
  },
  {
   "cell_type": "code",
   "execution_count": 34,
   "id": "bfb77f76",
   "metadata": {},
   "outputs": [],
   "source": [
    "def normalize_authors(authors):\n",
    "    # Eliminar signos de puntuación y convertir todo a minúsculas\n",
    "    normalized_authors = authors.lower().replace(',', '').replace('.', '').replace(' ','').replace('-', '')\n",
    "    \n",
    "    # Dividir los nombres de los autores y ordenarlos alfabéticamente\n",
    "    author_list = sorted(normalized_authors.split(';'))\n",
    "    \n",
    "    # Unir los nombres de los autores separados por un punto y coma\n",
    "    normalized_authors = ';'.join(author_list)\n",
    "    return normalized_authors"
   ]
  },
  {
   "cell_type": "code",
   "execution_count": 35,
   "id": "fe7c6ef6",
   "metadata": {},
   "outputs": [],
   "source": [
    "def generate_unique_id(title, authors):\n",
    "    # Normalizar la columna TITULO y la columna AUTORES\n",
    "    normalized_title = normalize_title(title)\n",
    "    normalized_authors = normalize_authors(authors)\n",
    "    \n",
    "    # Generar un código único solo para el título\n",
    "    title_id = hashlib.md5(normalized_title.encode()).hexdigest()\n",
    "    \n",
    "    # Generar un código único solo para los autores\n",
    "    authors_id = hashlib.md5(normalized_authors.encode()).hexdigest()\n",
    "    \n",
    "    # Concatenar la columna TITULO y la columna AUTORES en una sola cadena\n",
    "    combined_string = normalized_title + '|' + normalized_authors\n",
    "    \n",
    "    # Generar un código único para el registro completo\n",
    "    unique_id = hashlib.md5(combined_string.encode()).hexdigest()\n",
    "    return title_id, authors_id, unique_id"
   ]
  },
  {
   "cell_type": "markdown",
   "id": "8bc39fda",
   "metadata": {},
   "source": [
    "## 6.2. Generando identificadores únicos para el titulo, autores y combinación de ambos"
   ]
  },
  {
   "cell_type": "code",
   "execution_count": 36,
   "id": "526989a6",
   "metadata": {},
   "outputs": [],
   "source": [
    "#-->\n",
    "#RENATIrecordsRed = pd.read_excel(r'.\\_results\\Book1.xlsx')"
   ]
  },
  {
   "cell_type": "code",
   "execution_count": 37,
   "id": "014bc766",
   "metadata": {},
   "outputs": [],
   "source": [
    "RENATIrecordsRed['UID_Tit'], RENATIrecordsRed['UID_Aut'], RENATIrecordsRed['UID'] = zip(*RENATIrecordsRed.apply(lambda row: generate_unique_id(row['Título:'], row['Autor(es):']), axis=1))"
   ]
  },
  {
   "cell_type": "code",
   "execution_count": 38,
   "id": "c71bfacd",
   "metadata": {
    "scrolled": true
   },
   "outputs": [
    {
     "data": {
      "text/html": [
       "<div>\n",
       "<style scoped>\n",
       "    .dataframe tbody tr th:only-of-type {\n",
       "        vertical-align: middle;\n",
       "    }\n",
       "\n",
       "    .dataframe tbody tr th {\n",
       "        vertical-align: top;\n",
       "    }\n",
       "\n",
       "    .dataframe thead th {\n",
       "        text-align: right;\n",
       "    }\n",
       "</style>\n",
       "<table border=\"1\" class=\"dataframe\">\n",
       "  <thead>\n",
       "    <tr style=\"text-align: right;\">\n",
       "      <th></th>\n",
       "      <th>URL:</th>\n",
       "      <th>Enlace al repositorio:</th>\n",
       "      <th>Aparece en las colecciones:</th>\n",
       "      <th>Institución:</th>\n",
       "      <th>Institución que otorga el grado o título:</th>\n",
       "      <th>Disciplina académico-profesional:</th>\n",
       "      <th>Grado o título:</th>\n",
       "      <th>Título:</th>\n",
       "      <th>Autor(es):</th>\n",
       "      <th>Asesor(es):</th>\n",
       "      <th>Fecha de publicación:</th>\n",
       "      <th>Palabras clave:</th>\n",
       "      <th>UID_Tit</th>\n",
       "      <th>UID_Aut</th>\n",
       "      <th>UID</th>\n",
       "    </tr>\n",
       "  </thead>\n",
       "  <tbody>\n",
       "    <tr>\n",
       "      <th>0</th>\n",
       "      <td>https://renati.sunedu.gob.pe/handle/sunedu/300...</td>\n",
       "      <td>https://hdl.handle.net/11537/21870</td>\n",
       "      <td>Título profesional - Tesis</td>\n",
       "      <td>Universidad Privada del Norte</td>\n",
       "      <td>Universidad Privada del Norte. Facultad de Ing...</td>\n",
       "      <td>Ingeniería Civil</td>\n",
       "      <td>Bachiller en Ingeniería Civil</td>\n",
       "      <td>Estabilización de suelos con erosión eólica pa...</td>\n",
       "      <td>Sánchez Coronado, Marcial Alexander; Romero Pu...</td>\n",
       "      <td>Díaz García, Gonzalo Hugo</td>\n",
       "      <td>13-may-2019</td>\n",
       "      <td>Erosión; Estudios de suelos; Aguas residuales ...</td>\n",
       "      <td>bd009486bf1906fcfcf58e0a8f219007</td>\n",
       "      <td>50cff5acadcf7e7cc4968f6ab498e309</td>\n",
       "      <td>1171ff6f615f2ecf4f4a6c2406b27979</td>\n",
       "    </tr>\n",
       "    <tr>\n",
       "      <th>1</th>\n",
       "      <td>https://renati.sunedu.gob.pe/handle/sunedu/266...</td>\n",
       "      <td>http://hdl.handle.net/20.500.12404/6095</td>\n",
       "      <td>Título profesional - Tesis</td>\n",
       "      <td>Pontificia Universidad Católica del Perú</td>\n",
       "      <td>Pontificia Universidad Católica del Perú. Facu...</td>\n",
       "      <td>Ingeniería Electrónica</td>\n",
       "      <td>Ingeniero Electrónico</td>\n",
       "      <td>Diseño e implementación de un equipo de metrol...</td>\n",
       "      <td>Villanueva Blas, Lis Mariela</td>\n",
       "      <td>Melgarejo Ponte, Óscar Antonio</td>\n",
       "      <td>23-jun-2015</td>\n",
       "      <td>Energía eólica--Aparatos e instrumentos.; Sist...</td>\n",
       "      <td>b978e1b0e9ba21d9f828e15495871381</td>\n",
       "      <td>23e9305cc74d5f24b21b34b299a8480d</td>\n",
       "      <td>f81e77e62f2f288dcf44c6982ee84f85</td>\n",
       "    </tr>\n",
       "    <tr>\n",
       "      <th>2</th>\n",
       "      <td>https://renati.sunedu.gob.pe/handle/sunedu/301...</td>\n",
       "      <td>https://hdl.handle.net/11537/10088</td>\n",
       "      <td>Título profesional - Tesis</td>\n",
       "      <td>Universidad Privada del Norte</td>\n",
       "      <td>Universidad Privada del Norte. Facultad de Neg...</td>\n",
       "      <td>Administración y Servicios Turísticos</td>\n",
       "      <td>Licenciado en Administración y Servicios Turís...</td>\n",
       "      <td>Condiciones turísticas del turismo esotérico e...</td>\n",
       "      <td>Medina Zavaleta, Clary Sandy; Núñez Salazar, E...</td>\n",
       "      <td>Hurtado Castañeda, Jamy</td>\n",
       "      <td>2-jul-2016</td>\n",
       "      <td>Desarrollo sostenible; Turismo; Fomento del tu...</td>\n",
       "      <td>21526a051ab13e7406b3861f70cc646d</td>\n",
       "      <td>27e0452405cadacbecca016b47013d88</td>\n",
       "      <td>636ad7921a3d1cf3db39eb5e9a5e7073</td>\n",
       "    </tr>\n",
       "    <tr>\n",
       "      <th>3</th>\n",
       "      <td>https://renati.sunedu.gob.pe/handle/sunedu/299...</td>\n",
       "      <td>http://dspace.unitru.edu.pe/handle/UNITRU/12814</td>\n",
       "      <td>Doctorado - Tesis</td>\n",
       "      <td>Universidad Nacional de Trujillo</td>\n",
       "      <td>Universidad Nacional de Trujillo.Escuela de Po...</td>\n",
       "      <td>Doctorado en Ciencias e Ingeniería</td>\n",
       "      <td>Doctor en Ciencias e Ingeniería</td>\n",
       "      <td>Evaluación de un modelo para las decisiones de...</td>\n",
       "      <td>Hurtado Zamora, Oswaldo</td>\n",
       "      <td>Benites Gutiérrez, Luis Alberto</td>\n",
       "      <td>2017</td>\n",
       "      <td>Modelo para las decisiones de inversión energí...</td>\n",
       "      <td>7db3624d0e25fdae49e1b5940d6fb010</td>\n",
       "      <td>964e90d6d8601b19015b0319349bf840</td>\n",
       "      <td>f8630394c56fd7f580a7bccc652d98d1</td>\n",
       "    </tr>\n",
       "    <tr>\n",
       "      <th>4</th>\n",
       "      <td>https://renati.sunedu.gob.pe/handle/sunedu/294...</td>\n",
       "      <td>https://hdl.handle.net/20.500.12692/35910</td>\n",
       "      <td>Título profesional - Tesis</td>\n",
       "      <td>Universidad César Vallejo</td>\n",
       "      <td>Universidad César Vallejo. Facultad de Ingenie...</td>\n",
       "      <td>Ingeniería Mecánica Eléctrica</td>\n",
       "      <td>Ingeniero Mecánico Electricista</td>\n",
       "      <td>Estudio de viabilidad de lanchas solares para ...</td>\n",
       "      <td>Oblitas Guevara, Nelbar</td>\n",
       "      <td>Díaz Rubio, Deciderio Enrique</td>\n",
       "      <td>2019</td>\n",
       "      <td>Energía; Viabilidad; Fotovoltaico; Motor fuera...</td>\n",
       "      <td>2b18ace22190f1157cd58ec245fa8849</td>\n",
       "      <td>3dc0217b471b79844dede332d952de12</td>\n",
       "      <td>4992597427166937080827bf262e00e1</td>\n",
       "    </tr>\n",
       "  </tbody>\n",
       "</table>\n",
       "</div>"
      ],
      "text/plain": [
       "                                                URL:  \\\n",
       "0  https://renati.sunedu.gob.pe/handle/sunedu/300...   \n",
       "1  https://renati.sunedu.gob.pe/handle/sunedu/266...   \n",
       "2  https://renati.sunedu.gob.pe/handle/sunedu/301...   \n",
       "3  https://renati.sunedu.gob.pe/handle/sunedu/299...   \n",
       "4  https://renati.sunedu.gob.pe/handle/sunedu/294...   \n",
       "\n",
       "                            Enlace al repositorio:  \\\n",
       "0               https://hdl.handle.net/11537/21870   \n",
       "1          http://hdl.handle.net/20.500.12404/6095   \n",
       "2               https://hdl.handle.net/11537/10088   \n",
       "3  http://dspace.unitru.edu.pe/handle/UNITRU/12814   \n",
       "4        https://hdl.handle.net/20.500.12692/35910   \n",
       "\n",
       "  Aparece en las colecciones:                              Institución:  \\\n",
       "0  Título profesional - Tesis             Universidad Privada del Norte   \n",
       "1  Título profesional - Tesis  Pontificia Universidad Católica del Perú   \n",
       "2  Título profesional - Tesis             Universidad Privada del Norte   \n",
       "3           Doctorado - Tesis          Universidad Nacional de Trujillo   \n",
       "4  Título profesional - Tesis                 Universidad César Vallejo   \n",
       "\n",
       "           Institución que otorga el grado o título:  \\\n",
       "0  Universidad Privada del Norte. Facultad de Ing...   \n",
       "1  Pontificia Universidad Católica del Perú. Facu...   \n",
       "2  Universidad Privada del Norte. Facultad de Neg...   \n",
       "3  Universidad Nacional de Trujillo.Escuela de Po...   \n",
       "4  Universidad César Vallejo. Facultad de Ingenie...   \n",
       "\n",
       "       Disciplina académico-profesional:  \\\n",
       "0                       Ingeniería Civil   \n",
       "1                 Ingeniería Electrónica   \n",
       "2  Administración y Servicios Turísticos   \n",
       "3     Doctorado en Ciencias e Ingeniería   \n",
       "4          Ingeniería Mecánica Eléctrica   \n",
       "\n",
       "                                     Grado o título:  \\\n",
       "0                      Bachiller en Ingeniería Civil   \n",
       "1                              Ingeniero Electrónico   \n",
       "2  Licenciado en Administración y Servicios Turís...   \n",
       "3                    Doctor en Ciencias e Ingeniería   \n",
       "4                    Ingeniero Mecánico Electricista   \n",
       "\n",
       "                                             Título:  \\\n",
       "0  Estabilización de suelos con erosión eólica pa...   \n",
       "1  Diseño e implementación de un equipo de metrol...   \n",
       "2  Condiciones turísticas del turismo esotérico e...   \n",
       "3  Evaluación de un modelo para las decisiones de...   \n",
       "4  Estudio de viabilidad de lanchas solares para ...   \n",
       "\n",
       "                                          Autor(es):  \\\n",
       "0  Sánchez Coronado, Marcial Alexander; Romero Pu...   \n",
       "1                       Villanueva Blas, Lis Mariela   \n",
       "2  Medina Zavaleta, Clary Sandy; Núñez Salazar, E...   \n",
       "3                            Hurtado Zamora, Oswaldo   \n",
       "4                            Oblitas Guevara, Nelbar   \n",
       "\n",
       "                       Asesor(es): Fecha de publicación:  \\\n",
       "0        Díaz García, Gonzalo Hugo           13-may-2019   \n",
       "1   Melgarejo Ponte, Óscar Antonio           23-jun-2015   \n",
       "2          Hurtado Castañeda, Jamy            2-jul-2016   \n",
       "3  Benites Gutiérrez, Luis Alberto                  2017   \n",
       "4    Díaz Rubio, Deciderio Enrique                  2019   \n",
       "\n",
       "                                     Palabras clave:  \\\n",
       "0  Erosión; Estudios de suelos; Aguas residuales ...   \n",
       "1  Energía eólica--Aparatos e instrumentos.; Sist...   \n",
       "2  Desarrollo sostenible; Turismo; Fomento del tu...   \n",
       "3  Modelo para las decisiones de inversión energí...   \n",
       "4  Energía; Viabilidad; Fotovoltaico; Motor fuera...   \n",
       "\n",
       "                            UID_Tit                           UID_Aut  \\\n",
       "0  bd009486bf1906fcfcf58e0a8f219007  50cff5acadcf7e7cc4968f6ab498e309   \n",
       "1  b978e1b0e9ba21d9f828e15495871381  23e9305cc74d5f24b21b34b299a8480d   \n",
       "2  21526a051ab13e7406b3861f70cc646d  27e0452405cadacbecca016b47013d88   \n",
       "3  7db3624d0e25fdae49e1b5940d6fb010  964e90d6d8601b19015b0319349bf840   \n",
       "4  2b18ace22190f1157cd58ec245fa8849  3dc0217b471b79844dede332d952de12   \n",
       "\n",
       "                                UID  \n",
       "0  1171ff6f615f2ecf4f4a6c2406b27979  \n",
       "1  f81e77e62f2f288dcf44c6982ee84f85  \n",
       "2  636ad7921a3d1cf3db39eb5e9a5e7073  \n",
       "3  f8630394c56fd7f580a7bccc652d98d1  \n",
       "4  4992597427166937080827bf262e00e1  "
      ]
     },
     "execution_count": 38,
     "metadata": {},
     "output_type": "execute_result"
    }
   ],
   "source": [
    "RENATIrecordsRed.head()"
   ]
  },
  {
   "cell_type": "code",
   "execution_count": 39,
   "id": "fc4f9a7f",
   "metadata": {},
   "outputs": [],
   "source": [
    "RENATIrecordsRed.to_excel('RENATI_reduced_UID.xlsx', index = False)"
   ]
  },
  {
   "cell_type": "markdown",
   "id": "f9fae06f",
   "metadata": {},
   "source": [
    "## 6.3. Cerrar navegador"
   ]
  },
  {
   "cell_type": "code",
   "execution_count": 40,
   "id": "65507a01",
   "metadata": {},
   "outputs": [],
   "source": [
    "WebNavObj.close()\n",
    "WebNavObj.quit()"
   ]
  },
  {
   "cell_type": "code",
   "execution_count": null,
   "id": "2410c20b",
   "metadata": {},
   "outputs": [],
   "source": []
  }
 ],
 "metadata": {
  "kernelspec": {
   "display_name": "Python 3 (ipykernel)",
   "language": "python",
   "name": "python3"
  },
  "language_info": {
   "codemirror_mode": {
    "name": "ipython",
    "version": 3
   },
   "file_extension": ".py",
   "mimetype": "text/x-python",
   "name": "python",
   "nbconvert_exporter": "python",
   "pygments_lexer": "ipython3",
   "version": "3.10.9"
  }
 },
 "nbformat": 4,
 "nbformat_minor": 5
}
