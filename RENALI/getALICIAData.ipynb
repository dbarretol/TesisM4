{
 "cells": [
  {
   "cell_type": "markdown",
   "id": "65fbd62e",
   "metadata": {},
   "source": [
    "Este script sirve para: <br>\n",
    "1.- Abrir el navegador<br>\n",
    "2.- Ir a ALICIA (https://alicia.concytec.gob.pe/)<br>\n",
    "3.- Lanzar búsquedas usando términos específicos<br>\n",
    "4.- Extraer los metadatos de todos los resultados<br>\n",
    "5.- Guardar los metadatos en un archivo externo"
   ]
  },
  {
   "cell_type": "markdown",
   "id": "f83c958a",
   "metadata": {},
   "source": [
    "# 1. Librerías"
   ]
  },
  {
   "cell_type": "code",
   "execution_count": 1,
   "id": "f86068a1",
   "metadata": {},
   "outputs": [],
   "source": [
    "import pandas as pd\n",
    "import time, os, re"
   ]
  },
  {
   "cell_type": "code",
   "execution_count": 2,
   "id": "6bdf69ef",
   "metadata": {},
   "outputs": [],
   "source": [
    "from selenium import webdriver\n",
    "from bs4 import BeautifulSoup\n",
    "\n",
    "from selenium.webdriver.support.wait import WebDriverWait\n",
    "from selenium.webdriver.support import expected_conditions as EC\n",
    "from selenium.webdriver.common.by import By"
   ]
  },
  {
   "cell_type": "markdown",
   "id": "338339f1",
   "metadata": {},
   "source": [
    "# 2. Variables globales"
   ]
  },
  {
   "cell_type": "code",
   "execution_count": 3,
   "id": "03746aff",
   "metadata": {},
   "outputs": [],
   "source": [
    "ALICIA_url = 'https://alicia.concytec.gob.pe'"
   ]
  },
  {
   "cell_type": "code",
   "execution_count": 4,
   "id": "3dae4b57",
   "metadata": {},
   "outputs": [],
   "source": [
    "#esta línea debe actualizarse si se cambia de versión de chromedriver\n",
    "chrome_path = r'.\\ext\\111.0.5563.64\\chromedriver.exe'"
   ]
  },
  {
   "cell_type": "markdown",
   "id": "addee8ce",
   "metadata": {},
   "source": [
    "# 3. Definición de funciones (I)"
   ]
  },
  {
   "cell_type": "code",
   "execution_count": 5,
   "id": "58bef395",
   "metadata": {},
   "outputs": [],
   "source": [
    "#Función para iniciar una nueva instancia del navegador Chrome\n",
    "def openWebNav():\n",
    "    \n",
    "    WebNavObj = webdriver.Chrome(executable_path = chrome_path)\n",
    "    \n",
    "    return WebNavObj"
   ]
  },
  {
   "cell_type": "code",
   "execution_count": 6,
   "id": "28e1c437",
   "metadata": {},
   "outputs": [],
   "source": [
    "def getCurrentHTML(WebNavObj):\n",
    "    ps = WebNavObj.page_source\n",
    "    soupObj =BeautifulSoup(ps, 'lxml')\n",
    "    \n",
    "    return soupObj"
   ]
  },
  {
   "cell_type": "code",
   "execution_count": 7,
   "id": "a8284890",
   "metadata": {},
   "outputs": [],
   "source": [
    "def runALICIAsearch(WebNavObj, kwStr):\n",
    "    selStr = \"input[type='text']\"\n",
    "\n",
    "    try:\n",
    "        sBox = WebDriverWait(WebNavObj,10).until(EC.element_to_be_clickable((By.CSS_SELECTOR, selStr)))\n",
    "        sBox.clear()\n",
    "        sBox.send_keys(kwStr + '\\n')\n",
    "    except:\n",
    "        print(f\"\\tError al buscar {kwStr}. Hazlo manualmente...\")\n",
    "        input(\"\\tEn espera...(presione tecla)...\")"
   ]
  },
  {
   "cell_type": "code",
   "execution_count": 8,
   "id": "bac9c4d4",
   "metadata": {},
   "outputs": [],
   "source": [
    "def getNrALICIA(WebNavObj):\n",
    "    soupObj = getCurrentHTML(WebNavObj)\n",
    "    tagNr = ['search-stats', 'strong']\n",
    "    \n",
    "    NrElem = soupObj.find(class_=tagNr[0])\n",
    "    \n",
    "    if NrElem is not None:\n",
    "        try:\n",
    "            Nr = NrElem.find_all(tagNr[1])\n",
    "            Nr = Nr[1]\n",
    "            Nr = Nr.text.replace(\",\",\"\")\n",
    "            Nr = int(Nr)\n",
    "        except:\n",
    "            print(\"No se ubicó la cantidad de resultados.\")\n",
    "            Nr = input(\"Ingrese el número manualmente =>\")\n",
    "            Nr = int(Nr)\n",
    "    else:\n",
    "        Nr = 0\n",
    "            \n",
    "    return Nr"
   ]
  },
  {
   "cell_type": "code",
   "execution_count": 9,
   "id": "55a2d840",
   "metadata": {},
   "outputs": [],
   "source": [
    "def getALICIAurls(soupObj):\n",
    "    ALICIAurls = soupObj.find_all('a', href=lambda href: href and href.startswith('/vufind/Record/'))\n",
    "    \n",
    "    href_values = []\n",
    "    \n",
    "    #Iterar sobre ALICIAurls y extraer el valor de href\n",
    "    for e in ALICIAurls:\n",
    "        href = e.get('href').replace(\"/Save\",\"\")\n",
    "        href_values.append(href)\n",
    "        \n",
    "    return href_values"
   ]
  },
  {
   "cell_type": "code",
   "execution_count": 10,
   "id": "305bc61f",
   "metadata": {},
   "outputs": [],
   "source": [
    "def saveALICIAurlsList(LstObj, kwStr, pathStr):\n",
    "        \n",
    "    fName = \"ALICIA-\" + kwStr + \" (\" + str(len(LstObj)) + \")\" + \".txt\"\n",
    "    fPath = pathStr + fName\n",
    "    \n",
    "    with open(fPath, \"w\") as file:\n",
    "        for e in LstObj:\n",
    "            file.write(str(e) + \"\\n\")"
   ]
  },
  {
   "cell_type": "markdown",
   "id": "ac73053f",
   "metadata": {},
   "source": [
    "# 4. Programa principal para obtener lista de URLs de ALICIA"
   ]
  },
  {
   "cell_type": "markdown",
   "id": "347c01ee",
   "metadata": {},
   "source": [
    "## 4.1. Abrir navegador"
   ]
  },
  {
   "cell_type": "code",
   "execution_count": 11,
   "id": "e016b23c",
   "metadata": {},
   "outputs": [],
   "source": [
    "WebNavObj = openWebNav()\n",
    "WebNavObj.maximize_window()\n",
    "WebNavObj.get(ALICIA_url)"
   ]
  },
  {
   "cell_type": "markdown",
   "id": "ddcea182",
   "metadata": {},
   "source": [
    "## 4.2. Lanzando búsquedas"
   ]
  },
  {
   "cell_type": "code",
   "execution_count": 12,
   "id": "ab81bcac",
   "metadata": {},
   "outputs": [],
   "source": [
    "kwList = [\"aerogenerador\", \"energía eólica\", \"eólica\", \"generador eólico\", \"turbina eólica\", \"wind energy\", \"wind turbine\"]"
   ]
  },
  {
   "cell_type": "code",
   "execution_count": 13,
   "id": "2c2e36c2",
   "metadata": {},
   "outputs": [
    {
     "name": "stdout",
     "output_type": "stream",
     "text": [
      "\tLa búsqueda del término aerogenerador arrojó 220 documentos.\n",
      "\t\tEl botón 'Siguiente' esta deshabilitado.\n",
      "\t\tEl botón 'Siguiente' esta deshabilitado.\n",
      "\tLa búsqueda del término energía eólica arrojó 384 documentos.\n",
      "\t\tEl botón 'Siguiente' esta deshabilitado.\n",
      "\tLa búsqueda del término eólica arrojó 476 documentos.\n",
      "\t\tEl botón 'Siguiente' esta deshabilitado.\n",
      "\tLa búsqueda del término generador eólico arrojó 63 documentos.\n",
      "\t\tEl botón 'Siguiente' esta deshabilitado.\n",
      "\tLa búsqueda del término turbina eólica arrojó 90 documentos.\n",
      "\t\tEl botón 'Siguiente' esta deshabilitado.\n",
      "\tLa búsqueda del término wind energy arrojó 164 documentos.\n",
      "\t\tEl botón 'Siguiente' esta deshabilitado.\n",
      "\tLa búsqueda del término wind turbine arrojó 55 documentos.\n",
      "\t\tEl botón 'Siguiente' esta deshabilitado.\n"
     ]
    }
   ],
   "source": [
    "for kwStr in kwList:\n",
    "    #Lanzando búsqueda\n",
    "    runALICIAsearch(WebNavObj, kwStr)\n",
    "    \n",
    "    #Obteniendo el número de resultados\n",
    "    Nr = getNrALICIA(WebNavObj)\n",
    "    print(f\"\\tLa búsqueda del término {kwStr} arrojó {Nr} documentos.\")\n",
    "    \n",
    "    nTabs = int(Nr/20)\n",
    "    \n",
    "    ALICIA_URLS = []\n",
    "    \n",
    "    for t in range(1, nTabs+2, 1):\n",
    "        soupObj = getCurrentHTML(WebNavObj)\n",
    "        tmpURLs = getALICIAurls(soupObj)\n",
    "        ALICIA_URLS.extend(tmpURLs)\n",
    "        \n",
    "        #Visitando la siguiente pestaña\n",
    "        time.sleep(1)\n",
    "        try:\n",
    "            sigBut = WebNavObj.find_element_by_link_text(\"Siguiente\")\n",
    "            sigBut.click()\n",
    "            time.sleep(1)\n",
    "        except:\n",
    "            print(\"\\t\\tEl botón 'Siguiente' esta deshabilitado.\")\n",
    "    \n",
    "    #Guardando la lista de enlaces\n",
    "    ALICIA_URLS = list(set(ALICIA_URLS))\n",
    "    saveALICIAurlsList(ALICIA_URLS, kwStr, './lists/ALICIA/')  "
   ]
  },
  {
   "cell_type": "markdown",
   "id": "2af931fd",
   "metadata": {},
   "source": [
    "## 4.3. Cerrar navegador"
   ]
  },
  {
   "cell_type": "code",
   "execution_count": 14,
   "id": "70a23df5",
   "metadata": {},
   "outputs": [],
   "source": [
    "WebNavObj.close()\n",
    "WebNavObj.quit()"
   ]
  },
  {
   "cell_type": "markdown",
   "id": "aa2c541a",
   "metadata": {},
   "source": [
    "#--> ===================================================================================="
   ]
  },
  {
   "cell_type": "code",
   "execution_count": 15,
   "id": "85b7593b",
   "metadata": {},
   "outputs": [
    {
     "name": "stdout",
     "output_type": "stream",
     "text": [
      "ATENCIÓN!!  Leer mensaje... \n"
     ]
    },
    {
     "data": {
      "text/plain": [
       "' '"
      ]
     },
     "execution_count": 15,
     "metadata": {},
     "output_type": "execute_result"
    }
   ],
   "source": [
    "input(\"ATENCIÓN!!  Leer mensaje...\")"
   ]
  },
  {
   "cell_type": "markdown",
   "id": "257170b2",
   "metadata": {},
   "source": [
    "No ejecutar el código lineas abajo si la carpeta '.\\lists\\ALICIA' esta vacía."
   ]
  },
  {
   "cell_type": "markdown",
   "id": "69066fe7",
   "metadata": {},
   "source": [
    "# 5. Programa principal para obtener detalles a partir de listado de URLs de ALICIA"
   ]
  },
  {
   "cell_type": "markdown",
   "id": "b718ac4f",
   "metadata": {},
   "source": [
    "## 5.1. Definición de funciones (II)"
   ]
  },
  {
   "cell_type": "code",
   "execution_count": 16,
   "id": "27a5b1eb",
   "metadata": {},
   "outputs": [],
   "source": [
    "def consolidarALICIAtxt(pathStr):\n",
    "    files = [f for f in os.listdir(pathStr) if re.match(r'ALICIA.*\\.txt', f)]\n",
    "    \n",
    "    ALICIAurls = set()\n",
    "    \n",
    "    for txtf in files:\n",
    "        with open(os.path.join(pathStr, txtf), 'r') as f:\n",
    "            for linea in f:\n",
    "                ALICIAurls.add(linea.strip())\n",
    "                \n",
    "    return list(ALICIAurls)"
   ]
  },
  {
   "cell_type": "code",
   "execution_count": 17,
   "id": "dda79f44",
   "metadata": {},
   "outputs": [],
   "source": [
    "def getPageALICIAMtdata(WebNavObj, urlStr):\n",
    "    soupObj = getCurrentHTML(WebNavObj)\n",
    "    \n",
    "    #Obteniendo el título\n",
    "    Title = getTitle(soupObj)\n",
    "       \n",
    "    #Encontrando los demas metadatos\n",
    "    metadata_dict = {'Título:':Title,\n",
    "                     'URL:':urlStr}\n",
    "    \n",
    "    #Obteniendo los demas metadatos\n",
    "    try:\n",
    "        TableElem = soupObj.find('tbody')\n",
    "        tmp_dict = getTableMtdataInfo(TableElem)\n",
    "        metadata_dict.update(tmp_dict)\n",
    "    except Exception as e:\n",
    "        print(e)\n",
    "        print(\"Error al obtener los datos de la página\")    \n",
    "\n",
    "    return metadata_dict             "
   ]
  },
  {
   "cell_type": "code",
   "execution_count": 18,
   "id": "fe178752",
   "metadata": {},
   "outputs": [],
   "source": [
    "def getTitle(soupObj):\n",
    "    #Encontrando el título    \n",
    "    try:\n",
    "        TitElem = soupObj.find('h1', {'property': 'name'})\n",
    "        if TitElem is None:\n",
    "            raise Exception('No se pudo encontrar el elemento de título')\n",
    "        else:\n",
    "            Title = TitElem.get_text()\n",
    "    except Exception as e:\n",
    "        print(e)\n",
    "        return None\n",
    "    \n",
    "    return Title"
   ]
  },
  {
   "cell_type": "code",
   "execution_count": 19,
   "id": "28971fe9",
   "metadata": {},
   "outputs": [],
   "source": [
    "def getTableMtdataInfo(TableBsObj):\n",
    "    rowElem = TableBsObj.find_all('tr')\n",
    "    \n",
    "    metadata_dict = {}\n",
    "    for i in range(len(rowElem)):\n",
    "        labels = rowElem[i].find('th').get_text(strip = True)\n",
    "        \n",
    "        if labels == 'Autores:':\n",
    "            author_tags = rowElem[i].find_all('a')\n",
    "            authors = []\n",
    "            \n",
    "            for tag in author_tags:\n",
    "                authors.append(tag.text.strip())\n",
    "            \n",
    "            metadata_dict['Autor:'] = ';'.join(authors)   \n",
    "        else:\n",
    "            values = rowElem[i].find('td').get_text(strip = True)\n",
    "            metadata_dict[labels] =  values\n",
    "\n",
    "        \n",
    "    return metadata_dict"
   ]
  },
  {
   "cell_type": "code",
   "execution_count": 20,
   "id": "ee82de38",
   "metadata": {},
   "outputs": [],
   "source": [
    "def dictArrtoDf(dictArrObj):\n",
    "    # obtener lista de claves únicas\n",
    "    headers = list(set().union(*dictArrObj))\n",
    "    \n",
    "    # crear DataFrame con claves como columnas\n",
    "    df = pd.DataFrame(columns = headers)\n",
    "    \n",
    "    # agregar cada diccionario como fila en el DataFrame\n",
    "    for dic in dictArrObj:\n",
    "        # Se convierte el diccionario en un DataFrame\n",
    "        df_temp = pd.DataFrame.from_dict(dic, orient='index').T\n",
    "        \n",
    "        # Se concatena el DataFrame temporal con el DataFrame acumulado\n",
    "        df = pd.concat([df, df_temp], ignore_index=True, sort=False)\n",
    "    \n",
    "    return df  "
   ]
  },
  {
   "cell_type": "markdown",
   "id": "fad32df7",
   "metadata": {},
   "source": [
    "## 5.2. Cargando datos de los enlaces"
   ]
  },
  {
   "cell_type": "code",
   "execution_count": 21,
   "id": "bacfb742",
   "metadata": {},
   "outputs": [
    {
     "name": "stdout",
     "output_type": "stream",
     "text": [
      "Se cargaron un total de 639 enlaces para analizar.\n"
     ]
    }
   ],
   "source": [
    "ALICIAurls = consolidarALICIAtxt('./lists/ALICIA/')\n",
    "print(f'Se cargaron un total de {len(ALICIAurls)} enlaces para analizar.')"
   ]
  },
  {
   "cell_type": "markdown",
   "id": "cb8928a5",
   "metadata": {},
   "source": [
    "## 5.3. Abrir navegador"
   ]
  },
  {
   "cell_type": "code",
   "execution_count": 22,
   "id": "47e3febc",
   "metadata": {},
   "outputs": [],
   "source": [
    "WebNavObj = openWebNav()\n",
    "WebNavObj.maximize_window()\n",
    "WebNavObj.get(ALICIA_url)"
   ]
  },
  {
   "cell_type": "markdown",
   "id": "3887257a",
   "metadata": {},
   "source": [
    "Esperar que cargue la pagina, puede demorar un poco"
   ]
  },
  {
   "cell_type": "markdown",
   "id": "eb2ebdcd",
   "metadata": {},
   "source": [
    "## 5.4. Visitando páginas y recolectando información generando un arreglo de diccionarios"
   ]
  },
  {
   "cell_type": "code",
   "execution_count": 23,
   "id": "24a86295",
   "metadata": {},
   "outputs": [],
   "source": [
    "ALICIAMtdata = []\n",
    "for i in range(len(ALICIAurls)): #\n",
    "    WebNavObj.get(ALICIA_url + ALICIAurls[i])\n",
    "    time.sleep(0.5)\n",
    "    \n",
    "    urlMtdata = getPageALICIAMtdata(WebNavObj, ALICIA_url + ALICIAurls[i])\n",
    "    \n",
    "    ALICIAMtdata.append(urlMtdata)"
   ]
  },
  {
   "cell_type": "markdown",
   "id": "1141e12c",
   "metadata": {},
   "source": [
    "La ejecución de esta celda puede demorar dependiendo de cuantos registros tenga que visitar."
   ]
  },
  {
   "cell_type": "markdown",
   "id": "2f0590ba",
   "metadata": {},
   "source": [
    "## 5.5. Generando un dataframe a partir del arreglo de diccionarios"
   ]
  },
  {
   "cell_type": "code",
   "execution_count": 24,
   "id": "d9abda4c",
   "metadata": {},
   "outputs": [],
   "source": [
    "ALICIArecords = dictArrtoDf(ALICIAMtdata)"
   ]
  },
  {
   "cell_type": "code",
   "execution_count": 25,
   "id": "77bbbdc7",
   "metadata": {},
   "outputs": [],
   "source": [
    "ALICIArecords.to_excel('ALICIA_RawData.xlsx', index = False)"
   ]
  },
  {
   "cell_type": "markdown",
   "id": "d26d037d",
   "metadata": {},
   "source": [
    "### 5.5.1. Combinando columnas 'Autor:' y 'Autores:'"
   ]
  },
  {
   "cell_type": "code",
   "execution_count": 26,
   "id": "9f5f8ffd",
   "metadata": {},
   "outputs": [],
   "source": [
    "#ALICIArecords['Autor (es):'] = ALICIArecords['Autor:']\n",
    "#ALICIArecords['Autor (es):'] = ALICIArecords['Autor (es):'].fillna(ALICIArecords['Autores:'])"
   ]
  },
  {
   "cell_type": "code",
   "execution_count": 27,
   "id": "a8ba7738",
   "metadata": {},
   "outputs": [],
   "source": [
    "#ALICIArecords = ALICIArecords.drop(['Autor:', 'Autores:'], axis=1)"
   ]
  },
  {
   "cell_type": "markdown",
   "id": "3af58720",
   "metadata": {},
   "source": [
    "### 5.5.2. Extrayendo un dataframe solo con las columnas mas relevantes"
   ]
  },
  {
   "cell_type": "code",
   "execution_count": 28,
   "id": "d99c1490",
   "metadata": {},
   "outputs": [],
   "source": [
    "ColRed = ['URL:',\n",
    "          'Enlace del recurso:',\n",
    "          'Formato:',\n",
    "          'Repositorio:', \n",
    "          'Institución:',          \n",
    "          'Título:',\n",
    "          'Autor:',\n",
    "          'Fecha de Publicación:', \n",
    "         ]"
   ]
  },
  {
   "cell_type": "code",
   "execution_count": 29,
   "id": "05a7a5a2",
   "metadata": {},
   "outputs": [],
   "source": [
    "ALICIArecordsRed = ALICIArecords.loc[:, ColRed]"
   ]
  },
  {
   "cell_type": "code",
   "execution_count": 30,
   "id": "9d7839e2",
   "metadata": {},
   "outputs": [],
   "source": [
    "ALICIArecordsRed.to_excel('ALICIA_reduced.xlsx', index = False)"
   ]
  },
  {
   "cell_type": "code",
   "execution_count": 31,
   "id": "e8179f5c",
   "metadata": {},
   "outputs": [
    {
     "data": {
      "text/plain": [
       "Index(['URL:', 'Enlace del recurso:', 'Formato:', 'Repositorio:',\n",
       "       'Institución:', 'Título:', 'Autor:', 'Fecha de Publicación:'],\n",
       "      dtype='object')"
      ]
     },
     "execution_count": 31,
     "metadata": {},
     "output_type": "execute_result"
    }
   ],
   "source": [
    "ALICIArecordsRed.columns"
   ]
  },
  {
   "cell_type": "markdown",
   "id": "0cea0eef",
   "metadata": {},
   "source": [
    "# 6. Programa principal para normalizar titulo y autores y generar un identificador único para detectar registros dusplicados"
   ]
  },
  {
   "cell_type": "code",
   "execution_count": 32,
   "id": "1d2026a0",
   "metadata": {},
   "outputs": [],
   "source": [
    "import hashlib"
   ]
  },
  {
   "cell_type": "markdown",
   "id": "d52fe00a",
   "metadata": {},
   "source": [
    "## 6.1. Definición de funciones"
   ]
  },
  {
   "cell_type": "code",
   "execution_count": 33,
   "id": "dd88b55b",
   "metadata": {},
   "outputs": [],
   "source": [
    "def normalize_title(title):\n",
    "    # Eliminar signos de puntuación y espacios en blanco extra\n",
    "    normalized_title = title.strip().replace(' ','').replace('\"','').replace('.', '').replace(',', '').replace('-', '').lower()\n",
    "    \n",
    "    return normalized_title"
   ]
  },
  {
   "cell_type": "code",
   "execution_count": 34,
   "id": "f65db276",
   "metadata": {},
   "outputs": [],
   "source": [
    "def normalize_authors(authors):\n",
    "    # Eliminar signos de puntuación y convertir todo a minúsculas\n",
    "    normalized_authors = authors.lower().replace(',', '').replace('.', '').replace(' ','').replace('-', '')\n",
    "    \n",
    "    # Dividir los nombres de los autores y ordenarlos alfabéticamente\n",
    "    author_list = sorted(normalized_authors.split(';'))\n",
    "    \n",
    "    # Unir los nombres de los autores separados por un punto y coma\n",
    "    normalized_authors = ';'.join(author_list)\n",
    "    return normalized_authors"
   ]
  },
  {
   "cell_type": "code",
   "execution_count": 35,
   "id": "08dfdb8b",
   "metadata": {},
   "outputs": [],
   "source": [
    "def generate_unique_id(title, authors):\n",
    "    # Normalizar la columna TITULO y la columna AUTORES\n",
    "    normalized_title = normalize_title(title)\n",
    "    normalized_authors = normalize_authors(authors)\n",
    "    \n",
    "    # Generar un código único solo para el título\n",
    "    title_id = hashlib.md5(normalized_title.encode()).hexdigest()\n",
    "    \n",
    "    # Generar un código único solo para los autores\n",
    "    authors_id = hashlib.md5(normalized_authors.encode()).hexdigest()\n",
    "    \n",
    "    # Concatenar la columna TITULO y la columna AUTORES en una sola cadena\n",
    "    combined_string = normalized_title + '|' + normalized_authors\n",
    "    \n",
    "    # Generar un código único para el registro completo\n",
    "    unique_id = hashlib.md5(combined_string.encode()).hexdigest()\n",
    "    return title_id, authors_id, unique_id"
   ]
  },
  {
   "cell_type": "markdown",
   "id": "5ff55f3a",
   "metadata": {},
   "source": [
    "## 6.2. Generando identificadores únicos para el titulo, autores y combinación de ambos"
   ]
  },
  {
   "cell_type": "code",
   "execution_count": 36,
   "id": "55649bae",
   "metadata": {},
   "outputs": [],
   "source": [
    "#-->\n",
    "#ALICIArecordsRed = pd.read_excel(r'.\\_results\\ALICIA_reduced.xlsx')"
   ]
  },
  {
   "cell_type": "code",
   "execution_count": 37,
   "id": "06b924d3",
   "metadata": {},
   "outputs": [],
   "source": [
    "ALICIArecordsRed['UID_Tit'], ALICIArecordsRed['UID_Aut'], ALICIArecordsRed['UID'] = zip(*ALICIArecordsRed.apply(lambda row: generate_unique_id(row['Título:'], row['Autor:']), axis=1))"
   ]
  },
  {
   "cell_type": "code",
   "execution_count": 38,
   "id": "49667bac",
   "metadata": {
    "scrolled": true
   },
   "outputs": [
    {
     "data": {
      "text/html": [
       "<div>\n",
       "<style scoped>\n",
       "    .dataframe tbody tr th:only-of-type {\n",
       "        vertical-align: middle;\n",
       "    }\n",
       "\n",
       "    .dataframe tbody tr th {\n",
       "        vertical-align: top;\n",
       "    }\n",
       "\n",
       "    .dataframe thead th {\n",
       "        text-align: right;\n",
       "    }\n",
       "</style>\n",
       "<table border=\"1\" class=\"dataframe\">\n",
       "  <thead>\n",
       "    <tr style=\"text-align: right;\">\n",
       "      <th></th>\n",
       "      <th>URL:</th>\n",
       "      <th>Enlace del recurso:</th>\n",
       "      <th>Formato:</th>\n",
       "      <th>Repositorio:</th>\n",
       "      <th>Institución:</th>\n",
       "      <th>Título:</th>\n",
       "      <th>Autor:</th>\n",
       "      <th>Fecha de Publicación:</th>\n",
       "      <th>UID_Tit</th>\n",
       "      <th>UID_Aut</th>\n",
       "      <th>UID</th>\n",
       "    </tr>\n",
       "  </thead>\n",
       "  <tbody>\n",
       "    <tr>\n",
       "      <th>0</th>\n",
       "      <td>https://alicia.concytec.gob.pe/vufind/Record/0...</td>\n",
       "      <td>http://www.revistas.uni.edu.pe/index.php/tecni...</td>\n",
       "      <td>artículo</td>\n",
       "      <td>Revista UNI - Tecnia</td>\n",
       "      <td>Universidad Nacional de Ingeniería</td>\n",
       "      <td>DISEÑO Y CONSTRUCCIÓN DE UN AEROGENERADOR DE 5...</td>\n",
       "      <td>González, Salomé;Baldera Teodoro, José Chiroque</td>\n",
       "      <td>2006</td>\n",
       "      <td>2cd59c1556b51921f1d27d83142533f9</td>\n",
       "      <td>3a382ef61f189bd8095e4f4418215745</td>\n",
       "      <td>2ff4461eab123ed6fb6d4535342e922a</td>\n",
       "    </tr>\n",
       "    <tr>\n",
       "      <th>1</th>\n",
       "      <td>https://alicia.concytec.gob.pe/vufind/Record/U...</td>\n",
       "      <td>http://hdl.handle.net/20.500.14076/13053</td>\n",
       "      <td>informe técnico</td>\n",
       "      <td>UNI-Tesis</td>\n",
       "      <td>Universidad Nacional de Ingeniería</td>\n",
       "      <td>Construcción de un prototipo de generador eóli...</td>\n",
       "      <td>Cárdenas Aquino, Pablo Gustavo</td>\n",
       "      <td>2013</td>\n",
       "      <td>2aed701034c85bbcb99eb5a0849fba86</td>\n",
       "      <td>bb6f09938797bff6e6478ad2146f0332</td>\n",
       "      <td>637a0223a00e513c13b96ce0c2603b02</td>\n",
       "    </tr>\n",
       "    <tr>\n",
       "      <th>2</th>\n",
       "      <td>https://alicia.concytec.gob.pe/vufind/Record/R...</td>\n",
       "      <td>http://revistas.sqperu.org.pe/index.php/revist...</td>\n",
       "      <td>artículo</td>\n",
       "      <td>Revista de la Sociedad Química del Perú</td>\n",
       "      <td>Sociedad Química del Perú</td>\n",
       "      <td>Contaminación ambiental , respeto a la socieda...</td>\n",
       "      <td>Guerra Carvallo, Claver Hugo</td>\n",
       "      <td>2021</td>\n",
       "      <td>981b06fcaa5eab2d55794a6da2221fcd</td>\n",
       "      <td>b26390425aa89ddf303d4c993998c55e</td>\n",
       "      <td>a6971755ce8d32768c9a2601df37bd55</td>\n",
       "    </tr>\n",
       "    <tr>\n",
       "      <th>3</th>\n",
       "      <td>https://alicia.concytec.gob.pe/vufind/Record/U...</td>\n",
       "      <td>http://hdl.handle.net/20.500.14076/908</td>\n",
       "      <td>tesis de grado</td>\n",
       "      <td>UNI-Tesis</td>\n",
       "      <td>Universidad Nacional de Ingeniería</td>\n",
       "      <td>Estudio de prefactibilidad de la microcentral ...</td>\n",
       "      <td>Cáceres Vergara, Julio Andrés</td>\n",
       "      <td>2006</td>\n",
       "      <td>32674473a5573d435d6cc43430c9c73a</td>\n",
       "      <td>068304f3360281020f9cc3e491db2247</td>\n",
       "      <td>0e97818b15033f59af2f1abf5a722021</td>\n",
       "    </tr>\n",
       "    <tr>\n",
       "      <th>4</th>\n",
       "      <td>https://alicia.concytec.gob.pe/vufind/Record/A...</td>\n",
       "      <td>https://hdl.handle.net/20.500.12543/4579</td>\n",
       "      <td>informe técnico</td>\n",
       "      <td>ANA-Institucional</td>\n",
       "      <td>Autoridad Nacional del Agua</td>\n",
       "      <td>Estudio de suelos en los Centros Culturales Pi...</td>\n",
       "      <td>Corporación de Fomento Económico y Social de L...</td>\n",
       "      <td>1969</td>\n",
       "      <td>b9ed22bc0993efb65ddebbd54d2df8aa</td>\n",
       "      <td>c4e64e5aba88bc4d0da7a9880260bd6d</td>\n",
       "      <td>6aa2b2e838cb5089bcafc3c86c1c050d</td>\n",
       "    </tr>\n",
       "  </tbody>\n",
       "</table>\n",
       "</div>"
      ],
      "text/plain": [
       "                                                URL:  \\\n",
       "0  https://alicia.concytec.gob.pe/vufind/Record/0...   \n",
       "1  https://alicia.concytec.gob.pe/vufind/Record/U...   \n",
       "2  https://alicia.concytec.gob.pe/vufind/Record/R...   \n",
       "3  https://alicia.concytec.gob.pe/vufind/Record/U...   \n",
       "4  https://alicia.concytec.gob.pe/vufind/Record/A...   \n",
       "\n",
       "                                 Enlace del recurso:         Formato:  \\\n",
       "0  http://www.revistas.uni.edu.pe/index.php/tecni...         artículo   \n",
       "1           http://hdl.handle.net/20.500.14076/13053  informe técnico   \n",
       "2  http://revistas.sqperu.org.pe/index.php/revist...         artículo   \n",
       "3             http://hdl.handle.net/20.500.14076/908   tesis de grado   \n",
       "4           https://hdl.handle.net/20.500.12543/4579  informe técnico   \n",
       "\n",
       "                              Repositorio:  \\\n",
       "0                     Revista UNI - Tecnia   \n",
       "1                                UNI-Tesis   \n",
       "2  Revista de la Sociedad Química del Perú   \n",
       "3                                UNI-Tesis   \n",
       "4                        ANA-Institucional   \n",
       "\n",
       "                         Institución:  \\\n",
       "0  Universidad Nacional de Ingeniería   \n",
       "1  Universidad Nacional de Ingeniería   \n",
       "2           Sociedad Química del Perú   \n",
       "3  Universidad Nacional de Ingeniería   \n",
       "4         Autoridad Nacional del Agua   \n",
       "\n",
       "                                             Título:  \\\n",
       "0  DISEÑO Y CONSTRUCCIÓN DE UN AEROGENERADOR DE 5...   \n",
       "1  Construcción de un prototipo de generador eóli...   \n",
       "2  Contaminación ambiental , respeto a la socieda...   \n",
       "3  Estudio de prefactibilidad de la microcentral ...   \n",
       "4  Estudio de suelos en los Centros Culturales Pi...   \n",
       "\n",
       "                                              Autor: Fecha de Publicación:  \\\n",
       "0    González, Salomé;Baldera Teodoro, José Chiroque                  2006   \n",
       "1                     Cárdenas Aquino, Pablo Gustavo                  2013   \n",
       "2                       Guerra Carvallo, Claver Hugo                  2021   \n",
       "3                      Cáceres Vergara, Julio Andrés                  2006   \n",
       "4  Corporación de Fomento Económico y Social de L...                  1969   \n",
       "\n",
       "                            UID_Tit                           UID_Aut  \\\n",
       "0  2cd59c1556b51921f1d27d83142533f9  3a382ef61f189bd8095e4f4418215745   \n",
       "1  2aed701034c85bbcb99eb5a0849fba86  bb6f09938797bff6e6478ad2146f0332   \n",
       "2  981b06fcaa5eab2d55794a6da2221fcd  b26390425aa89ddf303d4c993998c55e   \n",
       "3  32674473a5573d435d6cc43430c9c73a  068304f3360281020f9cc3e491db2247   \n",
       "4  b9ed22bc0993efb65ddebbd54d2df8aa  c4e64e5aba88bc4d0da7a9880260bd6d   \n",
       "\n",
       "                                UID  \n",
       "0  2ff4461eab123ed6fb6d4535342e922a  \n",
       "1  637a0223a00e513c13b96ce0c2603b02  \n",
       "2  a6971755ce8d32768c9a2601df37bd55  \n",
       "3  0e97818b15033f59af2f1abf5a722021  \n",
       "4  6aa2b2e838cb5089bcafc3c86c1c050d  "
      ]
     },
     "execution_count": 38,
     "metadata": {},
     "output_type": "execute_result"
    }
   ],
   "source": [
    "ALICIArecordsRed.head()"
   ]
  },
  {
   "cell_type": "code",
   "execution_count": 39,
   "id": "9766590d",
   "metadata": {},
   "outputs": [],
   "source": [
    "ALICIArecordsRed.to_excel('ALICIA_reduced_UID.xlsx', index = False)"
   ]
  },
  {
   "cell_type": "markdown",
   "id": "ffff8a4a",
   "metadata": {},
   "source": [
    "## 6.3. Cerrar navegador"
   ]
  },
  {
   "cell_type": "code",
   "execution_count": 40,
   "id": "4a4c6140",
   "metadata": {},
   "outputs": [],
   "source": [
    "WebNavObj.close()\n",
    "WebNavObj.quit()"
   ]
  },
  {
   "cell_type": "code",
   "execution_count": null,
   "id": "2836385f",
   "metadata": {},
   "outputs": [],
   "source": []
  }
 ],
 "metadata": {
  "kernelspec": {
   "display_name": "Python 3 (ipykernel)",
   "language": "python",
   "name": "python3"
  },
  "language_info": {
   "codemirror_mode": {
    "name": "ipython",
    "version": 3
   },
   "file_extension": ".py",
   "mimetype": "text/x-python",
   "name": "python",
   "nbconvert_exporter": "python",
   "pygments_lexer": "ipython3",
   "version": "3.10.9"
  }
 },
 "nbformat": 4,
 "nbformat_minor": 5
}
